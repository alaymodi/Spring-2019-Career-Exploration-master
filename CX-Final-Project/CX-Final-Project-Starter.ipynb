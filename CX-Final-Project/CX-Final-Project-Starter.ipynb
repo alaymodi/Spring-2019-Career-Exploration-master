{
 "cells": [
  {
   "cell_type": "markdown",
   "metadata": {},
   "source": [
    "# [Career Exploration Kaggle Project](https://www.kaggle.com/t/cf06cb988cbc45969caf84ab4d03affb)\n"
   ]
  },
  {
   "cell_type": "markdown",
   "metadata": {},
   "source": [
    "For your final project in Career Exploration, you will be participating in a **Kaggle competition**, a data science and machine learning competition where you use *real* data and develop models to solve *real* problems.\n",
    "\n",
    "View the competition description / FAQ [here](https://docs.google.com/document/d/1mo0RIUJd1MqOxnaXJHvmWhaO69doDJR9lKfvG-CRYu8/edit?ts=5caadad4) for more info.\n",
    "\n",
    "**Note**: There is not much guidance provided in this project (on purpose). You'll be doing a lot of going through [previous lectures](https://github.com/SUSA-org/Spring-2019-Career-Exploration) to try to adapt the code provided there to this dataset, and reading documentation that's been linked in most of the problems. We are pushing you, fledgling data scientists, out of the nest and letting you spread your wings and fly."
   ]
  },
  {
   "cell_type": "markdown",
   "metadata": {},
   "source": [
    "## About the Competition\n",
    "\n",
    "Read about it [here](https://www.kaggle.com/c/petfinder-adoption-prediction).\n",
    "\n",
    "You will be predicting how long it will take for a stray animal (dog or cat) to be adopted based on a variety of characteristics, including categorical data like **breed**, **color**, numerical data like **age**, a **description** of the pet from its rescuer, and an **image** of the pet itself. Note that this is a **classification**, not **regression** task: you will be predicting a pet's **Adoption Speed**, or placing it into one of [five](https://www.kaggle.com/c/petfinder-adoption-prediction/data) categories."
   ]
  },
  {
   "cell_type": "code",
   "execution_count": null,
   "metadata": {
    "_cell_guid": "b1076dfc-b9ad-4769-8c92-a6c4dae69d19",
    "_uuid": "8f2839f25d086af736a60e9eeb907d3b93b6e0e5",
    "collapsed": true
   },
   "outputs": [],
   "source": [
    "import numpy as np\n",
    "import pandas as pd\n",
    "import matplotlib.pyplot as plt\n",
    "\n",
    "import json\n",
    "\n",
    "import os\n",
    "import seaborn as sns\n",
    "\n",
    "np.random.seed(42)\n",
    "% matplotlib inline"
   ]
  },
  {
   "cell_type": "markdown",
   "metadata": {},
   "source": [
    "### Loading Data\n",
    "\n",
    "There are **three** different data sources for the competition at your disposal."
   ]
  },
  {
   "cell_type": "markdown",
   "metadata": {},
   "source": [
    "#### DataFrame\n",
    "\n",
    "There are 23 columns of interest, you can read about what each feature means [here](https://www.kaggle.com/c/petfinder-adoption-prediction/data)."
   ]
  },
  {
   "cell_type": "code",
   "execution_count": null,
   "metadata": {
    "collapsed": true
   },
   "outputs": [],
   "source": [
    "train = pd.read_csv('data/train/train.csv')\n",
    "test = pd.read_csv('data/test/test.csv')"
   ]
  },
  {
   "cell_type": "markdown",
   "metadata": {},
   "source": [
    "#### Images"
   ]
  },
  {
   "cell_type": "markdown",
   "metadata": {},
   "source": [
    "The competition provides an image of each pet. Thankfully, so your model does not need to handle images (which are large and hard to deal with), each image has been run through Google's Vision API, and metadata about each image is given."
   ]
  },
  {
   "cell_type": "code",
   "execution_count": null,
   "metadata": {
    "collapsed": true
   },
   "outputs": [],
   "source": [
    "!head data/train/metadata/86e1089a3-1.json"
   ]
  },
  {
   "cell_type": "markdown",
   "metadata": {},
   "source": [
    "To use this data, you can load this data into a **dictionary** in Python as follows:"
   ]
  },
  {
   "cell_type": "code",
   "execution_count": null,
   "metadata": {
    "collapsed": true
   },
   "outputs": [],
   "source": [
    "# JSON Loading in Python\n",
    "\n",
    "pet_image_metadata = json.load(open('data/train/metadata/86e1089a3-1.json'))\n",
    "pet_image_metadata['labelAnnotations'][0]"
   ]
  },
  {
   "cell_type": "markdown",
   "metadata": {},
   "source": [
    "#### Descriptions\n",
    "\n",
    "The rescuer of the pet also provides a description (in the DataFrame)."
   ]
  },
  {
   "cell_type": "code",
   "execution_count": null,
   "metadata": {
    "collapsed": true
   },
   "outputs": [],
   "source": [
    "pet = train.iloc[0]\n",
    "pet['PetID'], pet['Description']"
   ]
  },
  {
   "cell_type": "markdown",
   "metadata": {},
   "source": [
    "Each of these descriptions has also been preprocessed, run through Google's Natural Language API. The analysis of each description is used as follows:"
   ]
  },
  {
   "cell_type": "code",
   "execution_count": null,
   "metadata": {
    "collapsed": true
   },
   "outputs": [],
   "source": [
    "pet_sentiment_metadata = json.load(open('data/train/sentiment/86e1089a3.json'))\n",
    "pet_sentiment_metadata['sentences'][0]"
   ]
  },
  {
   "cell_type": "markdown",
   "metadata": {},
   "source": [
    "## 1. Exploratory Data Analysis\n",
    "\n",
    "Provide two plots that demonstrate the correlation between a specific features of the dataset. Here are a two examples:"
   ]
  },
  {
   "cell_type": "markdown",
   "metadata": {},
   "source": [
    "### Gender vs. Type"
   ]
  },
  {
   "cell_type": "code",
   "execution_count": null,
   "metadata": {
    "collapsed": true
   },
   "outputs": [],
   "source": [
    "train['dataset_type'] = 'train'\n",
    "test['dataset_type'] = 'test'\n",
    "all_data = pd.concat([train, test])\n",
    "\n",
    "\n",
    "sns.factorplot('Type', col='Gender', data=all_data, kind='count', hue='dataset_type');\n",
    "plt.subplots_adjust(top=0.8)\n",
    "plt.suptitle('Count of cats and dogs in train and test set by gender');"
   ]
  },
  {
   "cell_type": "markdown",
   "metadata": {},
   "source": [
    "### AdoptionSpeed by Type and Fee"
   ]
  },
  {
   "cell_type": "code",
   "execution_count": null,
   "metadata": {
    "collapsed": true
   },
   "outputs": [],
   "source": [
    "train.drop('dataset_type', inplace=True, axis=1)\n",
    "test.drop('dataset_type', inplace=True, axis=1)\n",
    "\n",
    "sns.violinplot(x=\"AdoptionSpeed\", y=\"Fee\", hue=\"Type\", data=all_data);\n",
    "plt.title('AdoptionSpeed by Type and Fee');"
   ]
  },
  {
   "cell_type": "markdown",
   "metadata": {},
   "source": [
    "## 2. Feature Engineering\n",
    "\n",
    "Transform your training (and test!) data into two cleaned DataFrames with the features (from the original DataFrame or reading from the images or from the metadata JSON files) you believe will be the most helpful towards creating a model for AdoptionSpeed. \n",
    "\n",
    "In order to use the models below, you will need to make every feature **numerical**, not categorical.\n",
    "\n",
    "Note that this is probably the **most** important part of the project! People underestimate the power of good features: a linear classifier with descriptive features is often more powerful than a more complex model (XGBoost, for example) with bad features. And, since everyone will be using the same models for this competition (aside from tuning the hyperparameters), this step will most likely determine your leaderboard score!\n",
    "\n",
    "DataHub is a little restrictive in terms of memory space, so feel free to spin up a [Jupyter Notebook locally](https://jupyter.readthedocs.io/en/latest/install.html) to get around this! This is definitely not required, but it could help you do well in the competition, especially in this step! Please ask us for help with this if you have trouble."
   ]
  },
  {
   "cell_type": "code",
   "execution_count": null,
   "metadata": {
    "collapsed": true
   },
   "outputs": [],
   "source": [
    "animals_transformed = ... # DataFrame with numerical data where each row is each training point\n",
    "animals_labels = ... # AdoptionSpeed of each training point in the order in animals_transformed (Series object)\n",
    "\n",
    "animals_test_transformed = ... # DataFrame with the same features as animals_transformed but each row is each test point\n",
    "# IMPORTANT: make sure this has the same number of features (columns) as animals_transformed!\n",
    "\n",
    "animals_test_index = ... # the PetIDs associated with the test points in the same order as the rows in animals_test_transformed\n",
    "# IMPORTANT: make sure these are the PetIDs IN THE CORRECT ORDER associated with the test points. \n",
    "# PetID is how we check if your prediction is correct, so if this is wrong, you will get bad scores on the leaderboard."
   ]
  },
  {
   "cell_type": "code",
   "execution_count": null,
   "metadata": {
    "collapsed": true
   },
   "outputs": [],
   "source": [
    "animals_transformed.head() # Sanity check to see if your data is formatted nicely"
   ]
  },
  {
   "cell_type": "markdown",
   "metadata": {},
   "source": [
    "Run the cells below to test if your DataFrames are formatted correctly"
   ]
  },
  {
   "cell_type": "code",
   "execution_count": null,
   "metadata": {
    "collapsed": true
   },
   "outputs": [],
   "source": [
    "# test rows are the same\n",
    "assert animals_test_transformed.shape[0] == test.shape[0]\n",
    "\n",
    "# number of train columns is same as number of test columns\n",
    "assert animals_transformed.shape[1] == animals_test_transformed.shape[1]"
   ]
  },
  {
   "cell_type": "code",
   "execution_count": null,
   "metadata": {
    "collapsed": true
   },
   "outputs": [],
   "source": [
    "# tests if the columns are numeric\n",
    "\n",
    "from pandas.api.types import is_numeric_dtype\n",
    "\n",
    "for column in animals_transformed.columns:\n",
    "    assert is_numeric_dtype(animals_transformed[column])"
   ]
  },
  {
   "cell_type": "markdown",
   "metadata": {},
   "source": [
    "## 3. Model\n",
    "\n",
    "This competition uses the **Quadratic Weighted Kappa (QWK)**, or Cohen's kappa for evaluating a model. Read about it [here](https://en.wikipedia.org/wiki/Cohen%27s_kappa#Weighted_kappa). \n",
    "\n",
    "We will use a few different models to try to optimize for this metric. "
   ]
  },
  {
   "cell_type": "code",
   "execution_count": null,
   "metadata": {
    "collapsed": true
   },
   "outputs": [],
   "source": [
    "from sklearn.metrics import cohen_kappa_score\n",
    "from sklearn.metrics import confusion_matrix"
   ]
  },
  {
   "cell_type": "markdown",
   "metadata": {},
   "source": [
    "### 3.0 Validation Set\n",
    "\n",
    "Make an 80-20 split of the training data to create the validation set. Use [sklearn.model_seletion.train_test_split](https://scikit-learn.org/stable/modules/generated/sklearn.model_selection.train_test_split.html)."
   ]
  },
  {
   "cell_type": "code",
   "execution_count": null,
   "metadata": {
    "collapsed": true
   },
   "outputs": [],
   "source": [
    "from sklearn.model_selection import train_test_split\n",
    "\n",
    "X_train, X_valid, y_train, y_valid = ..."
   ]
  },
  {
   "cell_type": "markdown",
   "metadata": {},
   "source": [
    "### 3.1 Linear Regression"
   ]
  },
  {
   "cell_type": "markdown",
   "metadata": {},
   "source": [
    "#### 3.1.1 Model\n",
    "\n",
    "Use linear regression to classify the points in the validation set (don't expect an amazing score). \n",
    "\n",
    "Note: linear regression will give you a **continuous** prediction—it won't fit into the 0, 1, 2, 3, 4 categories. You need to find some way to map the output of the predicted values to the correct classes."
   ]
  },
  {
   "cell_type": "code",
   "execution_count": null,
   "metadata": {
    "collapsed": true
   },
   "outputs": [],
   "source": [
    "from sklearn.linear_model import LinearRegression\n",
    "\n",
    "# YOUR CODE HERE"
   ]
  },
  {
   "cell_type": "markdown",
   "metadata": {},
   "source": [
    "#### 3.1.2 Model Evaluation"
   ]
  },
  {
   "cell_type": "markdown",
   "metadata": {},
   "source": [
    "Calculate the QWK for these predictions on the validation set. We have already imported it for you."
   ]
  },
  {
   "cell_type": "code",
   "execution_count": null,
   "metadata": {
    "collapsed": true
   },
   "outputs": [],
   "source": [
    "# YOUR CODE HERE"
   ]
  },
  {
   "cell_type": "markdown",
   "metadata": {},
   "source": [
    "Visualize the [confusion matrix](https://scikit-learn.org/stable/modules/generated/sklearn.metrics.confusion_matrix.html) for your predictions. Use [sklearn.metrics.confusion_matrix](https://scikit-learn.org/stable/modules/generated/sklearn.metrics.confusion_matrix.html) (already imported) to compute it, and use [sns.heatmap](https://seaborn.pydata.org/generated/seaborn.heatmap.html) to visualize. What do each of cells mean?"
   ]
  },
  {
   "cell_type": "code",
   "execution_count": null,
   "metadata": {
    "collapsed": true
   },
   "outputs": [],
   "source": [
    "# YOUR CODE HERE"
   ]
  },
  {
   "cell_type": "markdown",
   "metadata": {},
   "source": [
    "### 3.2 KNN"
   ]
  },
  {
   "cell_type": "markdown",
   "metadata": {},
   "source": [
    "#### 3.2.1 Model\n",
    "\n",
    "Fit a [k-nearest-neighbors classifier](https://scikit-learn.org/stable/modules/generated/sklearn.neighbors.KNeighborsClassifier.html#sklearn.neighbors.KNeighborsClassifier) to the training data with **k = 3**. Report the QWK for the predictions on the validation set."
   ]
  },
  {
   "cell_type": "code",
   "execution_count": null,
   "metadata": {
    "collapsed": true
   },
   "outputs": [],
   "source": [
    "from sklearn.neighbors import KNeighborsClassifier"
   ]
  },
  {
   "cell_type": "code",
   "execution_count": null,
   "metadata": {
    "collapsed": true
   },
   "outputs": [],
   "source": [
    "# YOUR CODE HERE"
   ]
  },
  {
   "cell_type": "code",
   "execution_count": null,
   "metadata": {
    "collapsed": true
   },
   "outputs": [],
   "source": [
    "# YOUR CODE HERE"
   ]
  },
  {
   "cell_type": "markdown",
   "metadata": {},
   "source": [
    "#### 3.2.2. Hyperparameter Tuning\n",
    "\n",
    "Perform [3-fold cross-validation](https://scikit-learn.org/stable/modules/generated/sklearn.model_selection.KFold.html) on the parameter **k**. Find the best parameter of **k = [1, 10, 20]** and report the **QWK** on the validation set if you use this parameter."
   ]
  },
  {
   "cell_type": "code",
   "execution_count": null,
   "metadata": {
    "collapsed": true
   },
   "outputs": [],
   "source": [
    "from sklearn.model_selection import KFold\n",
    "\n",
    "kf = KFold(n_splits=3)\n",
    "\n",
    "ks = [1, 10, 20]\n",
    "\n",
    "cv_scores = np.zeros(len(ks))\n",
    "\n",
    "for ki, k in enumerate(ks):\n",
    "    print('Training k =', k, end='\\r')\n",
    "    scores = np.zeros(3)\n",
    "    for i, (train_index, test_index) in enumerate(kf.split(X_train)):\n",
    "        # YOUR CODE HERE\n",
    "    cv_scores[ki] = scores.mean()"
   ]
  },
  {
   "cell_type": "code",
   "execution_count": null,
   "metadata": {
    "collapsed": true
   },
   "outputs": [],
   "source": [
    "best_k = ks[cv_scores.argmax()]\n",
    "best_k"
   ]
  },
  {
   "cell_type": "code",
   "execution_count": null,
   "metadata": {
    "collapsed": true
   },
   "outputs": [],
   "source": [
    "# Fit the classifier with this parameter"
   ]
  },
  {
   "cell_type": "markdown",
   "metadata": {},
   "source": [
    "### 3.3. Decision Trees and Random Forest"
   ]
  },
  {
   "cell_type": "markdown",
   "metadata": {},
   "source": [
    "Fit a [Decision Tree](https://scikit-learn.org/stable/modules/generated/sklearn.tree.DecisionTreeClassifier.html) to the training data. Report the QWK for the predictions on the validation set."
   ]
  },
  {
   "cell_type": "code",
   "execution_count": null,
   "metadata": {
    "collapsed": true
   },
   "outputs": [],
   "source": [
    "from sklearn.tree import DecisionTreeClassifier\n",
    "\n",
    "# YOUR CODE HERE"
   ]
  },
  {
   "cell_type": "markdown",
   "metadata": {},
   "source": [
    "You'll notice that your score is pretty low (maybe even close to your score using Linear Regression). To investigate why, calculate the **QWK** when your classifier predicts the training data."
   ]
  },
  {
   "cell_type": "code",
   "execution_count": null,
   "metadata": {
    "collapsed": true
   },
   "outputs": [],
   "source": [
    "# YOUR CODE HERE"
   ]
  },
  {
   "cell_type": "markdown",
   "metadata": {},
   "source": [
    "This number is very **high** (why do you think that is the case?). Fit another Decision Tree and tune the **max_depth** parameter (using cross-validation or just by trying numbers). Report your best **QWK** on the validation set."
   ]
  },
  {
   "cell_type": "code",
   "execution_count": null,
   "metadata": {
    "collapsed": true
   },
   "outputs": [],
   "source": [
    "# YOUR CODE HERE"
   ]
  },
  {
   "cell_type": "markdown",
   "metadata": {},
   "source": [
    "Now, fit a [Random Forest classifier](https://scikit-learn.org/stable/modules/generated/sklearn.ensemble.RandomForestClassifier.html) to your data and report your best **QWK** on the validation set."
   ]
  },
  {
   "cell_type": "code",
   "execution_count": null,
   "metadata": {
    "collapsed": true
   },
   "outputs": [],
   "source": [
    "# YOUR CODE HERE"
   ]
  },
  {
   "cell_type": "markdown",
   "metadata": {},
   "source": [
    "### 3.4 Neural Networks\n",
    "\n",
    "Train a neural network on the data. Report your QWK on the validation set."
   ]
  },
  {
   "cell_type": "code",
   "execution_count": null,
   "metadata": {
    "collapsed": true
   },
   "outputs": [],
   "source": [
    "import keras\n",
    "from keras.models import Sequential\n",
    "from keras.layers import Dense, Dropout\n",
    "\n",
    "model = Sequential()"
   ]
  },
  {
   "cell_type": "code",
   "execution_count": null,
   "metadata": {
    "collapsed": true
   },
   "outputs": [],
   "source": [
    "# YOUR CODE HERE: add some layers to your neural network"
   ]
  },
  {
   "cell_type": "markdown",
   "metadata": {},
   "source": [
    "### 3.5 XGBoost"
   ]
  },
  {
   "cell_type": "markdown",
   "metadata": {},
   "source": [
    "Now that we've tried many different types of classifiers, it's time to bring out the big guns.\n",
    "\n",
    "Below are hyperparameters for an XGBoost model: tinker around with these (or use cross-validation) to achieve the best validation score (below). Learn about what some of the hyperparameters mean [here](https://xgboost.readthedocs.io/en/latest/python/python_api.html#xgboost.train)."
   ]
  },
  {
   "cell_type": "code",
   "execution_count": null,
   "metadata": {
    "_uuid": "24a3ad9214f8c5210f69a1b6f887ce602ccd2b06",
    "collapsed": true
   },
   "outputs": [],
   "source": [
    "params = {\n",
    "    'n_splits': ...,\n",
    "    'verbose_eval': ...,\n",
    "    'num_boost_rounds': ...,\n",
    "    'early_stop': ...\n",
    "}"
   ]
  },
  {
   "cell_type": "code",
   "execution_count": null,
   "metadata": {
    "collapsed": true
   },
   "outputs": [],
   "source": [
    "from model import train_and_test"
   ]
  },
  {
   "cell_type": "code",
   "execution_count": null,
   "metadata": {
    "_uuid": "0899c0b6c270bdaf99705f922492e813e0d0b75c",
    "collapsed": true
   },
   "outputs": [],
   "source": [
    "xgb_preds, model, qwk = train_and_test(params, animals_transformed, animals_labels, animals_test_transformed, verbose=True)\n",
    "print('Validation QWK:', qwk)"
   ]
  },
  {
   "cell_type": "markdown",
   "metadata": {},
   "source": [
    "## 4. Submitting to Kaggle\n",
    "\n",
    "Run the cells below, and then download the **submission.csv** file that is created by selecting the checkbox next to the file name and hitting the 'Download' button (IMPORTANT: do not hit the button that looks like a download button, it will download your entire DataHub files). Upload this file [here](https://www.kaggle.com/c/susa-cx-spring-19/submit)."
   ]
  },
  {
   "cell_type": "code",
   "execution_count": null,
   "metadata": {
    "_uuid": "5362eec86bcdd3f5485c318ce45c0a30a2b8cfa6",
    "collapsed": true
   },
   "outputs": [],
   "source": [
    "preds = pd.DataFrame({\n",
    "    'PetID': animals_test_index,\n",
    "    'AdoptionSpeed': xgb_preds # or choose another classifier's predictions, if you'd like\n",
    "}).set_index('PetID')\n"
   ]
  },
  {
   "cell_type": "code",
   "execution_count": null,
   "metadata": {
    "_uuid": "9d71cb4d98951b21e1c93c11ef77c3b3892f45df",
    "collapsed": true
   },
   "outputs": [],
   "source": [
    "preds.to_csv('submission.csv')"
   ]
  },
  {
   "cell_type": "markdown",
   "metadata": {},
   "source": [
    "Before try to submit to the competition, run the cell below to look at the first few lines of your submission file as a sanity check."
   ]
  },
  {
   "cell_type": "code",
   "execution_count": null,
   "metadata": {
    "_uuid": "a1cf483d3bae80aae579ea26218ea08f0d3e7d14",
    "collapsed": true
   },
   "outputs": [],
   "source": [
    "!head submission.csv"
   ]
  }
 ],
 "metadata": {
  "kernelspec": {
   "display_name": "Python 3",
   "language": "python",
   "name": "python3"
  },
  "language_info": {
   "codemirror_mode": {
    "name": "ipython",
    "version": 3
   },
   "file_extension": ".py",
   "mimetype": "text/x-python",
   "name": "python",
   "nbconvert_exporter": "python",
   "pygments_lexer": "ipython3",
   "version": "3.6.3"
  }
 },
 "nbformat": 4,
 "nbformat_minor": 1
}
