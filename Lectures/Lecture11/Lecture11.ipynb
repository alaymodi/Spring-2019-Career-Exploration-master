{
 "cells": [
  {
   "cell_type": "code",
   "execution_count": 1,
   "metadata": {},
   "outputs": [],
   "source": [
    "import numpy as np\n",
    "import pandas as pd\n",
    "import matplotlib.pyplot as plt\n",
    "import warnings\n",
    "warnings.filterwarnings(\"ignore\")\n",
    "import seaborn as sns"
   ]
  },
  {
   "cell_type": "markdown",
   "metadata": {},
   "source": [
    "# Lecture 11: Recap\n",
    "\n",
    "## 4/29/18\n",
    "\n",
    "### Table Of Contents\n",
    "1. [EDA, Data Loading/Processing](#section1)  \n",
    "2. [Feature Engineering](#section2)  \n",
    "3. [Modeling](#section3) <br>\n",
    "    3.1 [Loss Functions](#section3.1) <br>\n",
    "    3.2 [Linear Regression](#section3.2) <br>\n",
    "    3.3 [KNN, Decision Trees, Random Forest](#section3.3) <br>\n",
    "    3.4 [Neural Networks](#section3.4) <br>\n",
    "\n",
    "### Hosted by and maintained by the [Statistics Undergraduate Students Association (SUSA)](http://susa.berkeley.edu) (Authored by Ajay Raj)"
   ]
  },
  {
   "cell_type": "markdown",
   "metadata": {},
   "source": [
    "The classic problem in data science, as we've learned, is given a $n$ by $d$ **design matrix** $X$ ($n$ rows of training points with $d$ features), and a response variable $y$, represented by a $n$ by $1$ column vector, find a function $h(x)$, which takes in a $d$ by $1$ point and outputs a prediction $\\hat{y}$."
   ]
  },
  {
   "cell_type": "markdown",
   "metadata": {},
   "source": [
    "<a id='section1'></a>\n",
    "## EDA, Data Loading/Processing\n",
    "\n",
    "We first learned how to store a **design matrix** in Python using **Pandas**. As an example today, we'll be using the Iris dataset, where the features are attributes of a flower and the response variable is **categorical**, and represents which type of iris flower the features are describing."
   ]
  },
  {
   "cell_type": "code",
   "execution_count": 2,
   "metadata": {},
   "outputs": [],
   "source": [
    "from sklearn import datasets\n",
    "\n",
    "iris = datasets.load_iris()\n",
    "iris_df = pd.DataFrame(iris['data'], columns=iris['feature_names'])\n",
    "iris_target = pd.Series(iris['target'])\n",
    "iris_df['iris'] = iris_target\n",
    "iris_df['iris'].replace([0, 1, 2], iris['target_names'], inplace=True)"
   ]
  },
  {
   "cell_type": "code",
   "execution_count": 3,
   "metadata": {},
   "outputs": [
    {
     "data": {
      "text/html": [
       "<div>\n",
       "<style scoped>\n",
       "    .dataframe tbody tr th:only-of-type {\n",
       "        vertical-align: middle;\n",
       "    }\n",
       "\n",
       "    .dataframe tbody tr th {\n",
       "        vertical-align: top;\n",
       "    }\n",
       "\n",
       "    .dataframe thead th {\n",
       "        text-align: right;\n",
       "    }\n",
       "</style>\n",
       "<table border=\"1\" class=\"dataframe\">\n",
       "  <thead>\n",
       "    <tr style=\"text-align: right;\">\n",
       "      <th></th>\n",
       "      <th>sepal length (cm)</th>\n",
       "      <th>sepal width (cm)</th>\n",
       "      <th>petal length (cm)</th>\n",
       "      <th>petal width (cm)</th>\n",
       "      <th>iris</th>\n",
       "    </tr>\n",
       "  </thead>\n",
       "  <tbody>\n",
       "    <tr>\n",
       "      <th>0</th>\n",
       "      <td>5.1</td>\n",
       "      <td>3.5</td>\n",
       "      <td>1.4</td>\n",
       "      <td>0.2</td>\n",
       "      <td>setosa</td>\n",
       "    </tr>\n",
       "    <tr>\n",
       "      <th>1</th>\n",
       "      <td>4.9</td>\n",
       "      <td>3.0</td>\n",
       "      <td>1.4</td>\n",
       "      <td>0.2</td>\n",
       "      <td>setosa</td>\n",
       "    </tr>\n",
       "    <tr>\n",
       "      <th>2</th>\n",
       "      <td>4.7</td>\n",
       "      <td>3.2</td>\n",
       "      <td>1.3</td>\n",
       "      <td>0.2</td>\n",
       "      <td>setosa</td>\n",
       "    </tr>\n",
       "    <tr>\n",
       "      <th>3</th>\n",
       "      <td>4.6</td>\n",
       "      <td>3.1</td>\n",
       "      <td>1.5</td>\n",
       "      <td>0.2</td>\n",
       "      <td>setosa</td>\n",
       "    </tr>\n",
       "    <tr>\n",
       "      <th>4</th>\n",
       "      <td>5.0</td>\n",
       "      <td>3.6</td>\n",
       "      <td>1.4</td>\n",
       "      <td>0.2</td>\n",
       "      <td>setosa</td>\n",
       "    </tr>\n",
       "  </tbody>\n",
       "</table>\n",
       "</div>"
      ],
      "text/plain": [
       "   sepal length (cm)  sepal width (cm)  petal length (cm)  petal width (cm)  \\\n",
       "0                5.1               3.5                1.4               0.2   \n",
       "1                4.9               3.0                1.4               0.2   \n",
       "2                4.7               3.2                1.3               0.2   \n",
       "3                4.6               3.1                1.5               0.2   \n",
       "4                5.0               3.6                1.4               0.2   \n",
       "\n",
       "     iris  \n",
       "0  setosa  \n",
       "1  setosa  \n",
       "2  setosa  \n",
       "3  setosa  \n",
       "4  setosa  "
      ]
     },
     "execution_count": 3,
     "metadata": {},
     "output_type": "execute_result"
    }
   ],
   "source": [
    "iris_df.head()"
   ]
  },
  {
   "cell_type": "markdown",
   "metadata": {},
   "source": [
    "The first step in solving the problem is **understanding the design matrix**, called **exploratory data analysis (EDA)**. Using matplotlib and seaborn, we learned how to make plots like the one shown below:"
   ]
  },
  {
   "cell_type": "code",
   "execution_count": 4,
   "metadata": {},
   "outputs": [
    {
     "data": {
      "image/png": "[encoded data removed]",
      "text/plain": [
       "<Figure size 444.75x360 with 1 Axes>"
      ]
     },
     "metadata": {
      "needs_background": "light"
     },
     "output_type": "display_data"
    }
   ],
   "source": [
    "sns.FacetGrid(iris_df, hue=\"iris\", size=5) \\\n",
    "   .map(plt.scatter, \"sepal width (cm)\", \"sepal length (cm)\") \\\n",
    "   .add_legend()\n",
    "plt.show()"
   ]
  },
  {
   "cell_type": "markdown",
   "metadata": {},
   "source": [
    "<a id='section2'></a>\n",
    "## Feature Engineering\n",
    "\n",
    "The next step of accomplishing the task is deciding the features for the model, or creating new features that are good predictors for the response variable."
   ]
  },
  {
   "cell_type": "code",
   "execution_count": 5,
   "metadata": {},
   "outputs": [],
   "source": [
    "iris_df['sepal_area'] = iris_df['sepal length (cm)'] * iris_df['sepal width (cm)']"
   ]
  },
  {
   "cell_type": "code",
   "execution_count": 6,
   "metadata": {},
   "outputs": [
    {
     "data": {
      "image/png": "[encoded data removed]",
      "text/plain": [
       "<Figure size 432x288 with 1 Axes>"
      ]
     },
     "metadata": {
      "needs_background": "light"
     },
     "output_type": "display_data"
    }
   ],
   "source": [
    "sns.boxplot(x=\"sepal_area\", y=\"iris\", data=iris_df);"
   ]
  },
  {
   "cell_type": "markdown",
   "metadata": {},
   "source": [
    "Given a dataset with **many** features (like the one in your project), when deciding the number of features for the model, consider the **bias-variance tradeoff**:\n",
    "\n",
    "<img src='img/biasvariance.png'/>"
   ]
  },
  {
   "cell_type": "markdown",
   "metadata": {},
   "source": [
    "As the number of features in your model increases, you do reduce your error with respect to your loss function, but the variance of the model (i.e. given small changes in the training set, how much the model changes) increases as well. Finding the right balance between **bias** and **variance** is probably the *most* important question when creating your model."
   ]
  },
  {
   "cell_type": "markdown",
   "metadata": {},
   "source": [
    "The \"sepal area\" feature doesn't seem very good when we see the boxplots, so let's drop it."
   ]
  },
  {
   "cell_type": "code",
   "execution_count": 7,
   "metadata": {},
   "outputs": [],
   "source": [
    "iris_df.drop(['sepal_area'], axis = 1, inplace = True)"
   ]
  },
  {
   "cell_type": "markdown",
   "metadata": {},
   "source": [
    "**NOTE**: Feature engineering is usually THE MOST important step of the data science process. Really good features with a simple linear regression model will beat bad features passed into a complex model like a neural network."
   ]
  },
  {
   "cell_type": "markdown",
   "metadata": {},
   "source": [
    "<a id='section3'></a>\n",
    "## Modeling"
   ]
  },
  {
   "cell_type": "markdown",
   "metadata": {},
   "source": [
    "<a id='section3.1'></a>\n",
    "### Loss Functions\n",
    "\n",
    "Before you choose which model to use, you must first choose how to evaluate the models that you create (sort of like before completing an assignment, you should look at the rubric). A **loss function** $L(\\hat{y}, y)$ either takes in a vector of predictions or one, and returns a number, high if the prediction is incorrect, and low if not. Losses are usually positive."
   ]
  },
  {
   "cell_type": "markdown",
   "metadata": {},
   "source": [
    "When the response variable $y$ is continuous (i.e. it is **numerical**, not **categorical**), this is called **regression**. The most common loss function for regression is called **mean squared error**. For a vector of predictions $\\hat{y}_1, ..., \\hat{y}_n$, and the vector of actual values $y_1, ..., y_n$:\n",
    "\n",
    "$$\\text{MSE}(\\hat{y}, y) = \\frac{1}{n} \\sum_{i = 1}^n (\\hat{y}_i - y_i)^2$$\n",
    "\n",
    "When $y$ is categorical (it takes on discrete values that have no numerical meaning), this is called **classification**. You can use MSE for classification, but it doesn't work as well because it penalizes errors between different classes over others when it doesn't make sense. Instead, a common loss function for **classification** is called **categorical cross entropy**:\n",
    "\n",
    "$$\\text{CrossEntropy}(\\hat{y}, y) = -\\sum_{i = 1}^n \\sum_{\\text{class } k} y_{ik} \\log {\\hat {y}}_{ik}$$"
   ]
  },
  {
   "cell_type": "markdown",
   "metadata": {},
   "source": [
    "<a id='section3.2'></a>\n",
    "### Linear Regression\n",
    "\n",
    "Now that you've created and cleaned your **design matrix**, the next steps is to choose your model for the response variable $y$. The simplest regression model is called **linear regression**, where the goal is to find a vector $w$ of weights, such that $\\hat{y} = w^T x$. Linear regression uses **mean squared error**, and has a closed form solution if the features are not collinear:\n",
    "\n",
    "$$\\hat{w} = (X^T X)^{-1} X^T y$$"
   ]
  },
  {
   "cell_type": "markdown",
   "metadata": {},
   "source": [
    "For our example today, let's regress **petal length** on the rest of the features (instead of predicting the iris species, which is a classification task. Note: linear regression can be used for this using rounding, but I'd rather not give away the answer to the project)."
   ]
  },
  {
   "cell_type": "code",
   "execution_count": 8,
   "metadata": {},
   "outputs": [],
   "source": [
    "X, y = iris_df[['sepal length (cm)', 'sepal width (cm)', 'petal width (cm)']], iris_df['petal length (cm)']"
   ]
  },
  {
   "cell_type": "code",
   "execution_count": 9,
   "metadata": {},
   "outputs": [
    {
     "data": {
      "text/plain": [
       "0.968150119089107"
      ]
     },
     "execution_count": 9,
     "metadata": {},
     "output_type": "execute_result"
    }
   ],
   "source": [
    "from sklearn.linear_model import LinearRegression\n",
    "\n",
    "model = LinearRegression().fit(X, y)\n",
    "model.score(X, y) # training accuracy of the model"
   ]
  },
  {
   "cell_type": "markdown",
   "metadata": {},
   "source": [
    "#### Regularization in Linear Regression\n",
    "\n",
    "We also talked about methods to reduce a linear regression model's **variance** using a **regularization** term in the loss. You can also do this technique with any other loss like categorical cross-entropy.\n",
    "\n",
    "$$\\text{MSE-Ridge}(\\hat{y}, y, w) = \\frac{1}{n} \\sum_{i = 1}^n (\\hat{y}_i - y_i)^2 + \\lambda \\sum_{i = 1}^d w_i^2$$\n",
    "$$\\text{MSE-LASSO}(\\hat{y}, y, w) = \\frac{1}{n} \\sum_{i = 1}^n (\\hat{y}_i - y_i)^2 + \\lambda \\sum_{i = 1}^d |w_i|$$"
   ]
  },
  {
   "cell_type": "markdown",
   "metadata": {},
   "source": [
    "#### Validation, Evaluation\n",
    "\n",
    "When we examine training accuracy, however, we have no idea about overfitting: training accuracy is a measure of the model's **bias**, but not its **variance**. So, a common practice in data science is to partition around 20% of your data not to be trained on as your validation set. To set up the discussion of decision trees and neural networks, we take iris species as our response variable and the rest of the columns as our design matrix."
   ]
  },
  {
   "cell_type": "code",
   "execution_count": 18,
   "metadata": {},
   "outputs": [],
   "source": [
    "from sklearn.model_selection import train_test_split\n",
    "\n",
    "X_train, X_valid, y_train, y_valid = train_test_split(iris_df.iloc[:, :-1], iris_df['iris'], test_size = 0.2)"
   ]
  },
  {
   "cell_type": "markdown",
   "metadata": {},
   "source": [
    "<a id='section3.3'></a>\n",
    "### KNN, Decision Trees, Random Forest\n",
    "\n",
    "We'll now go through a few different ways to solve classification tasks using nonlinear methods (note that each of these tasks can be used for regression as well, but we'll focus on classification today).\n",
    "\n",
    "#### KNN\n",
    "\n",
    "The first example of nonlinear methods that we discussed is **$k$-nearest-neighbor (KNN)**. Basically, it just means: of the $k$ closest training points to $x$, choose the majority class.\n",
    "\n",
    "The hyperparameter $k$ trades off bias and variance, as $k$ decreases, variance increases (at $k = 1$, if one training point changes, the model changes)."
   ]
  },
  {
   "cell_type": "code",
   "execution_count": 20,
   "metadata": {},
   "outputs": [],
   "source": [
    "from sklearn.neighbors import KNeighborsClassifier"
   ]
  },
  {
   "cell_type": "code",
   "execution_count": 21,
   "metadata": {},
   "outputs": [],
   "source": [
    "knn_1_model = KNeighborsClassifier(n_neighbors=1).fit(X_train, y_train)"
   ]
  },
  {
   "cell_type": "code",
   "execution_count": 22,
   "metadata": {},
   "outputs": [
    {
     "data": {
      "text/plain": [
       "0.9666666666666667"
      ]
     },
     "execution_count": 22,
     "metadata": {},
     "output_type": "execute_result"
    }
   ],
   "source": [
    "from sklearn.metrics import accuracy_score\n",
    "\n",
    "accuracy_score(knn_1_model.predict(X_valid), y_valid)"
   ]
  },
  {
   "cell_type": "code",
   "execution_count": 31,
   "metadata": {},
   "outputs": [],
   "source": [
    "knn_50_model = KNeighborsClassifier(n_neighbors=50).fit(X_train, y_train)"
   ]
  },
  {
   "cell_type": "code",
   "execution_count": 32,
   "metadata": {},
   "outputs": [
    {
     "data": {
      "text/plain": [
       "0.8"
      ]
     },
     "execution_count": 32,
     "metadata": {},
     "output_type": "execute_result"
    }
   ],
   "source": [
    "from sklearn.metrics import accuracy_score\n",
    "\n",
    "accuracy_score(knn_50_model.predict(X_valid), y_valid)"
   ]
  },
  {
   "cell_type": "markdown",
   "metadata": {},
   "source": [
    "#### Decision Trees"
   ]
  },
  {
   "cell_type": "markdown",
   "metadata": {},
   "source": [
    "The problem with many complex models is that they do not provide **inference**: i.e. once you have a model, it is pretty much a black box: you don't know the process that the model goes through to predict a training point from the weights (you sort of can, but it's tough for sure).\n",
    "\n",
    "Decision trees provide a step-by-step decision process for a model to classify a point.\n",
    "\n",
    "The pseudocode of a decision tree is as follows:\n",
    "\n",
    "1. Choose a feature\n",
    "2. Find a place in the sorted list of feature values to split\n",
    "3. Create two subsets of the data, one for each side of the split\n",
    "4. Repeat 1-3 again"
   ]
  },
  {
   "cell_type": "code",
   "execution_count": 34,
   "metadata": {},
   "outputs": [],
   "source": [
    "from sklearn.tree import DecisionTreeClassifier"
   ]
  },
  {
   "cell_type": "code",
   "execution_count": 35,
   "metadata": {},
   "outputs": [],
   "source": [
    "dt_model = DecisionTreeClassifier().fit(X_train, y_train)"
   ]
  },
  {
   "cell_type": "code",
   "execution_count": 36,
   "metadata": {},
   "outputs": [
    {
     "data": {
      "text/plain": [
       "0.9333333333333333"
      ]
     },
     "execution_count": 36,
     "metadata": {},
     "output_type": "execute_result"
    }
   ],
   "source": [
    "accuracy_score(dt_model.predict(X_valid), y_valid)"
   ]
  },
  {
   "cell_type": "markdown",
   "metadata": {},
   "source": [
    "One of the most important hyperparameters for decision trees is called **max depth**: i.e. how many decisions should be made in predicting a point? This parameter also trades off with bias-variance, as **max-depth** increases, **variance** increases because a slight change can affect an overall prediction more."
   ]
  },
  {
   "cell_type": "code",
   "execution_count": 45,
   "metadata": {},
   "outputs": [],
   "source": [
    "dt_model = DecisionTreeClassifier(max_depth=1).fit(X_train, y_train)"
   ]
  },
  {
   "cell_type": "code",
   "execution_count": 46,
   "metadata": {},
   "outputs": [
    {
     "data": {
      "text/plain": [
       "0.6666666666666666"
      ]
     },
     "execution_count": 46,
     "metadata": {},
     "output_type": "execute_result"
    }
   ],
   "source": [
    "accuracy_score(dt_model.predict(X_valid), y_valid)"
   ]
  },
  {
   "cell_type": "markdown",
   "metadata": {},
   "source": [
    "#### Random Forest\n",
    "\n",
    "Finally, we talked a little about **ensemble learning**, where the idea is that *the wisdom of the many trumps the wisdom of the few*. If we train many classifiers and take their average, or majority, we will most likely come up with a better prediction than any one classifier.\n",
    "\n",
    "Ensemble learning is a method of dealing with the **variance** of a classifier: the idea for why is that the variance of the sample mean decreases as $n$ increases. For example, if $X_i \\sim \\mathcal{N}(\\mu, \\sigma^2)$, $\\overline{X} \\sim \\mathcal{N}(\\mu, \\frac{\\sigma^2}{n})$.\n",
    "\n",
    "Furthermore, for ensemble learning to work, each of the classifiers is **supposed** to overfit on the training set in some way, because then the average will capture more features of the training set. \n",
    "\n",
    "A **random forest** is a set of **decision trees** that ensemble together. We ensure that we get interesting decision trees by introducing **randomness** in two ways:\n",
    "\n",
    "1. Bootstrapping the data, or sampling the training points with replacement\n",
    "2. At each split in the decision trees, limiting the number of features to split on by taking a random subset"
   ]
  },
  {
   "cell_type": "code",
   "execution_count": 48,
   "metadata": {},
   "outputs": [],
   "source": [
    "from sklearn.ensemble import RandomForestClassifier\n",
    "\n",
    "rf_model = RandomForestClassifier().fit(X_train, y_train)"
   ]
  },
  {
   "cell_type": "code",
   "execution_count": 49,
   "metadata": {},
   "outputs": [
    {
     "data": {
      "text/plain": [
       "0.9333333333333333"
      ]
     },
     "execution_count": 49,
     "metadata": {},
     "output_type": "execute_result"
    }
   ],
   "source": [
    "accuracy_score(rf_model.predict(X_valid), y_valid)"
   ]
  },
  {
   "cell_type": "markdown",
   "metadata": {},
   "source": [
    "It turns out that one decision tree is enough to capture the data."
   ]
  },
  {
   "cell_type": "markdown",
   "metadata": {},
   "source": [
    "<a id='section3.4'></a>\n",
    "### Neural Networks\n",
    "\n",
    "This was the last nonlinear method that we discussed. **Neural networks** are nothing more than linear regression models, but the features are learned by introducing **nonlinear function composition** of the input features."
   ]
  },
  {
   "cell_type": "code",
   "execution_count": 52,
   "metadata": {},
   "outputs": [],
   "source": [
    "import keras\n",
    "from keras.models import Sequential\n",
    "from keras.layers import Dense"
   ]
  },
  {
   "cell_type": "code",
   "execution_count": 96,
   "metadata": {},
   "outputs": [],
   "source": [
    "model = Sequential()"
   ]
  },
  {
   "cell_type": "code",
   "execution_count": 97,
   "metadata": {},
   "outputs": [],
   "source": [
    "model.add(Dense(4, activation='relu', input_shape=(4,)))\n",
    "model.add(Dense(3, activation='softmax'))\n",
    "model.compile(optimizer='rmsprop',\n",
    "              loss='categorical_crossentropy',\n",
    "              metrics=['accuracy'])"
   ]
  },
  {
   "cell_type": "code",
   "execution_count": 98,
   "metadata": {},
   "outputs": [],
   "source": [
    "y_train_oe = pd.get_dummies(y_train)\n",
    "y_valid_oe = pd.get_dummies(y_valid)"
   ]
  },
  {
   "cell_type": "code",
   "execution_count": 99,
   "metadata": {},
   "outputs": [
    {
     "name": "stdout",
     "output_type": "stream",
     "text": [
      "Epoch 1/20\n",
      "120/120 [==============================] - 0s - loss: 4.3062 - acc: 0.3417       \n",
      "Epoch 2/20\n",
      "120/120 [==============================] - 0s - loss: 2.0340 - acc: 0.3417     \n",
      "Epoch 3/20\n",
      "120/120 [==============================] - 0s - loss: 1.3316 - acc: 0.3417      \n",
      "Epoch 4/20\n",
      "120/120 [==============================] - 0s - loss: 1.0443 - acc: 0.3667     \n",
      "Epoch 5/20\n",
      "120/120 [==============================] - 0s - loss: 0.8728 - acc: 0.5417      \n",
      "Epoch 6/20\n",
      "120/120 [==============================] - 0s - loss: 0.7870 - acc: 0.7667     \n",
      "Epoch 7/20\n",
      "120/120 [==============================] - 0s - loss: 0.7171 - acc: 0.8250     \n",
      "Epoch 8/20\n",
      "120/120 [==============================] - 0s - loss: 0.6544 - acc: 0.8250     \n",
      "Epoch 9/20\n",
      "120/120 [==============================] - 0s - loss: 0.5977 - acc: 0.8250     \n",
      "Epoch 10/20\n",
      "120/120 [==============================] - 0s - loss: 0.5502 - acc: 0.8500      \n",
      "Epoch 11/20\n",
      "120/120 [==============================] - 0s - loss: 0.5120 - acc: 0.8833      \n",
      "Epoch 12/20\n",
      "120/120 [==============================] - 0s - loss: 0.4787 - acc: 0.9333     \n",
      "Epoch 13/20\n",
      "120/120 [==============================] - 0s - loss: 0.4517 - acc: 0.9000     \n",
      "Epoch 14/20\n",
      "120/120 [==============================] - 0s - loss: 0.4283 - acc: 0.9333     \n",
      "Epoch 15/20\n",
      "120/120 [==============================] - 0s - loss: 0.4089 - acc: 0.9417     \n",
      "Epoch 16/20\n",
      "120/120 [==============================] - 0s - loss: 0.3904 - acc: 0.9333     \n",
      "Epoch 17/20\n",
      "120/120 [==============================] - 0s - loss: 0.3755 - acc: 0.9333     \n",
      "Epoch 18/20\n",
      "120/120 [==============================] - 0s - loss: 0.3583 - acc: 0.9500     \n",
      "Epoch 19/20\n",
      "120/120 [==============================] - 0s - loss: 0.3451 - acc: 0.9167      \n",
      "Epoch 20/20\n",
      "120/120 [==============================] - 0s - loss: 0.3375 - acc: 0.9417     \n"
     ]
    }
   ],
   "source": [
    "model.fit(x=X_train.values, y=y_train_oe.values, epochs=20, batch_size=1);"
   ]
  },
  {
   "cell_type": "code",
   "execution_count": 100,
   "metadata": {},
   "outputs": [],
   "source": [
    "valid_preds = pd.Series(np.argmax(model.predict(X_valid.values), axis=1)).replace([0, 1, 2], iris['target_names'])"
   ]
  },
  {
   "cell_type": "code",
   "execution_count": 101,
   "metadata": {},
   "outputs": [],
   "source": [
    "train_preds = pd.Series(np.argmax(model.predict(X_train.values), axis=1)).replace([0, 1, 2], iris['target_names'])"
   ]
  },
  {
   "cell_type": "code",
   "execution_count": 102,
   "metadata": {},
   "outputs": [
    {
     "data": {
      "text/plain": [
       "0.9583333333333334"
      ]
     },
     "execution_count": 102,
     "metadata": {},
     "output_type": "execute_result"
    }
   ],
   "source": [
    "accuracy_score(train_preds, y_train)"
   ]
  },
  {
   "cell_type": "code",
   "execution_count": 103,
   "metadata": {},
   "outputs": [
    {
     "data": {
      "text/plain": [
       "0.9333333333333333"
      ]
     },
     "execution_count": 103,
     "metadata": {},
     "output_type": "execute_result"
    }
   ],
   "source": [
    "accuracy_score(valid_preds, y_valid)"
   ]
  },
  {
   "cell_type": "markdown",
   "metadata": {},
   "source": [
    "As you can see, **the neural network wasn't better than a simple decision tree** with two levels! This is what we want you to get out of the last few weeks: big and complex models are interesting and exciting, but are NOT always the correct option for your data. The model that you choose depends on the data you are given. For example, in this case, we only had 150 points and a few features: simple models tend to do better on this, and they trained faster. Never lose sight of the EDA and feature engineering steps of the process: they are the MOST important when you're given a data science problem in the real world, and they inform you on what model to choose.\n",
    "\n",
    "It is easy to get bogged down in complex models like XGBoost and feedforward neural networks, but in the end, favor **Occam's razor**, which says that \"simpler solutions are more likely to be correct than complex ones\". Not only are simpler models easier to debug, they are easier to make conclusions from, and are less likely to overfit."
   ]
  },
  {
   "cell_type": "markdown",
   "metadata": {},
   "source": [
    "# Project worktime!"
   ]
  }
 ],
 "metadata": {
  "kernelspec": {
   "display_name": "Python 3",
   "language": "python",
   "name": "python3"
  },
  "language_info": {
   "codemirror_mode": {
    "name": "ipython",
    "version": 3
   },
   "file_extension": ".py",
   "mimetype": "text/x-python",
   "name": "python",
   "nbconvert_exporter": "python",
   "pygments_lexer": "ipython3",
   "version": "3.6.7"
  }
 },
 "nbformat": 4,
 "nbformat_minor": 2
}
