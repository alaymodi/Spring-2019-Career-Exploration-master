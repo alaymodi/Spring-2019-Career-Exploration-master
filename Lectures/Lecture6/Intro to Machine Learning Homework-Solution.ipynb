{
 "cells": [
  {
   "cell_type": "markdown",
   "metadata": {},
   "source": [
    "# Homework"
   ]
  },
  {
   "cell_type": "code",
   "execution_count": 1,
   "metadata": {},
   "outputs": [],
   "source": [
    "import matplotlib.pyplot as plt\n",
    "%matplotlib inline\n",
    "import random\n",
    "import numpy as np\n",
    "import pandas as pd\n",
    "from sklearn.model_selection import train_test_split\n",
    "from plotting import overfittingDemo, plot_multiple_linear_regression, overlay_simple_linear_model,plot_simple_residuals\n",
    "from scipy.optimize import curve_fit"
   ]
  },
  {
   "cell_type": "markdown",
   "metadata": {},
   "source": [
    "**Exercise 1:** What are the two \"specialities\" of machine learning? Pick one and in your own words, explain what it means. `"
   ]
  },
  {
   "cell_type": "markdown",
   "metadata": {
    "tags": [
     "exercise-1"
    ]
   },
   "source": [
    "Minimal human intervension: Machine learning involves figuring out the model yourself, therefore, the model for machine learning is supposed to be as general as possible. Complex data set: very high dimensions of data, for example, images."
   ]
  },
  {
   "cell_type": "markdown",
   "metadata": {},
   "source": [
    "**Exercise 2:** What is the difference between a regression task and a classification task?"
   ]
  },
  {
   "cell_type": "markdown",
   "metadata": {
    "tags": [
     "exercise-2"
    ]
   },
   "source": [
    "For regression we want to predict a quantitative variable, and for classification, a qualitative one. "
   ]
  },
  {
   "cell_type": "markdown",
   "metadata": {},
   "source": [
    "**Exercise 3:** \n",
    "1. What is parametric fitting in your understanding?\n",
    "2. Given the data $x = 1,2,3,4,5, y_1 = 2,4,6,8,10, y_2 = 2,4,8,16,32,$ what function $f_1, f_2$ will you use to fit $y_1, y_2$? Why do you choose those?\n",
    "3. Why is parametric fitting somehow not machine learning?"
   ]
  },
  {
   "cell_type": "markdown",
   "metadata": {
    "tags": [
     "exercise-3"
    ]
   },
   "source": [
    "1. It is a process of constructing a curve, or mathematical function, that has the best fit to a series of data points.\n",
    "2. f1: y=2x, f2:y=x^2, they best fit the data\n",
    "3. Because it requires a lot of human intervension"
   ]
  },
  {
   "cell_type": "markdown",
   "metadata": {},
   "source": [
    "**Exercise 4:** Take a look at the following residual plots. Residuals can be helpful in assessing if our model is overpredicting or underpredicting certain values. Assign the variable bestplot to the letter corresponding to which residual plot indicates a good fit for a linear model.\n",
    "\n",
    "<img src='residplots.png' width=\"600\" height=\"600\">"
   ]
  },
  {
   "cell_type": "code",
   "execution_count": 2,
   "metadata": {
    "tags": [
     "exercise-4"
    ]
   },
   "outputs": [],
   "source": [
    "bestplot = 'a'"
   ]
  },
  {
   "cell_type": "markdown",
   "metadata": {},
   "source": [
    "**Exercise 5:** Observe the following graphs. Assign each graph variable to one of the following strings: 'overfitting', 'underfitting', or 'bestfit'.\n",
    "<img src='overfit-underfit.png' width=\"800\" height=\"800\">"
   ]
  },
  {
   "cell_type": "code",
   "execution_count": 3,
   "metadata": {
    "tags": [
     "exercise-5"
    ]
   },
   "outputs": [],
   "source": [
    "graph1 = \"underfitting\"\n",
    "graph2 = \"bestfit\"\n",
    "graph3 = \"overfitting\""
   ]
  },
  {
   "cell_type": "markdown",
   "metadata": {},
   "source": [
    "**Exercise 6:** What are the 3 sets we split our initial data set into?"
   ]
  },
  {
   "cell_type": "markdown",
   "metadata": {
    "tags": [
     "exercise-6"
    ]
   },
   "source": [
    "Train, validation, test"
   ]
  },
  {
   "cell_type": "markdown",
   "metadata": {},
   "source": [
    "**Exercise 7:** Refer to the graphs below when answering the following questions (Exercise 6 and 7).\n",
    "<img src='training_vs_test_error.png' width=\"800\" height=\"800\">\n",
    "As we increase the degree of our model, what happens to the training error and what happens to the test error? "
   ]
  },
  {
   "cell_type": "markdown",
   "metadata": {
    "tags": [
     "exercise-7"
    ]
   },
   "source": [
    "Training goes down and test goes up"
   ]
  },
  {
   "cell_type": "markdown",
   "metadata": {},
   "source": [
    "**Exercise 8:** What is the issue with just increasing the degree of our model to get the lowest training error possible?"
   ]
  },
  {
   "cell_type": "markdown",
   "metadata": {
    "tags": [
     "exercise-8"
    ]
   },
   "source": [
    "Overfitting"
   ]
  },
  {
   "cell_type": "markdown",
   "metadata": {},
   "source": [
    "**Exercise 9:** Find the gradient for ridge loss, most concretely, when $L(\\theta, \\textbf{y}, \\alpha)\n",
    "= (\\frac{1}{n} \\sum_{i = 1}^{n}(y_i - \\theta)^2) + \\frac{\\alpha }{2}\\sum_{i = 1}^{n}\\theta ^2$\n",
    "find $\\frac{\\partial}{\\partial \\hat{\\theta}} L(\\theta, \\textbf{y},\\alpha)$, you can have a look at the class example, they are really similar."
   ]
  },
  {
   "cell_type": "markdown",
   "metadata": {
    "tags": [
     "exercise-9"
    ]
   },
   "source": [
    "$$\n",
    "\\begin{aligned}\n",
    "L(\\theta, \\textbf{y})\n",
    "&= \\frac{1}{n} \\sum_{i = 1}^{n}(y_i - \\theta)^2+ \\frac{\\alpha }{2}\\sum_{i = 1}^{n}\\theta ^2\\\\\n",
    "\\frac{\\partial}{\\partial \\hat{\\theta}} L(\\theta, \\textbf{y}) \n",
    "&= \\frac{1}{n} \\sum_{i = 1}^{n} -2(y_i - \\theta)+\\alpha n\\theta\\\\\n",
    "&= -\\frac{2}{n} \\sum_{i = 1}^{n} (y_i - \\theta) +\\alpha n\\theta\\\\\n",
    "\\end{aligned}\n",
    "$$"
   ]
  },
  {
   "cell_type": "markdown",
   "metadata": {},
   "source": [
    "**Exercise 10:** Following the last part of the exercise, you've already fitted your model, now let's test the performance. Make sure you check the code for the previous example we went through in class.\n",
    "\n",
    "1. copy what you had from the exercise here."
   ]
  },
  {
   "cell_type": "code",
   "execution_count": 80,
   "metadata": {
    "tags": [
     "exercise-10-1"
    ]
   },
   "outputs": [
    {
     "data": {
      "text/plain": [
       "LogisticRegression(C=10, class_weight=None, dual=False, fit_intercept=True,\n",
       "          intercept_scaling=1, max_iter=100, multi_class='multinomial',\n",
       "          n_jobs=None, penalty='l2', random_state=None, solver='newton-cg',\n",
       "          tol=0.0001, verbose=0, warm_start=False)"
      ]
     },
     "execution_count": 80,
     "metadata": {},
     "output_type": "execute_result"
    }
   ],
   "source": [
    "import pandas as pd\n",
    "\n",
    "mpg = pd.read_csv(\"./mpg_category.csv\", index_col=\"name\")\n",
    "\n",
    "#exercise part 1\n",
    "new_old = []\n",
    "for i in mpg[\"Old?\"].values:\n",
    "    if i == 'old':\n",
    "        new_old.append(1)\n",
    "    if i == 'new':\n",
    "        new_old.append(0)\n",
    "mpg['Old?'] = new_old\n",
    "\n",
    "#exercise part 2\n",
    "mpg_train, mpg_test = train_test_split(mpg, test_size = .2, random_state = 0)\n",
    "\n",
    "#exercise part 3\n",
    "from sklearn.linear_model import LogisticRegression\n",
    "softmax_reg = LogisticRegression(multi_class=\"multinomial\",solver=\"newton-cg\", C=10)\n",
    "X = mpg_train[[\"weight\"]]\n",
    "Y = mpg_train[[\"Old?\"]].values.ravel()\n",
    "softmax_reg.fit(X, Y)"
   ]
  },
  {
   "cell_type": "markdown",
   "metadata": {
    "tags": [
     "exercise-10-2"
    ]
   },
   "source": [
    "2. create the test data set and make the prediction on test dataset"
   ]
  },
  {
   "cell_type": "code",
   "execution_count": 81,
   "metadata": {},
   "outputs": [
    {
     "data": {
      "text/plain": [
       "(array([0, 1, 1, 0, 0, 1, 0, 1, 1, 0, 0, 1, 1, 1, 1, 0, 1, 1, 0, 0, 1, 1,\n",
       "        0, 1, 0, 1, 0, 1, 1, 1, 1, 0, 0, 0, 1, 1, 0, 1, 1, 1, 1, 0, 0, 1,\n",
       "        0, 1, 0, 1, 1, 1, 0, 1, 1, 0, 0, 1, 1, 1, 0, 0, 1, 0, 0, 1, 0, 1,\n",
       "        1, 0, 0, 0, 0, 0, 1, 1, 1, 1, 0, 1, 0]),\n",
       " array([1, 0, 1, 0, 0, 0, 0, 0, 1, 1, 1, 1, 0, 1, 0, 0, 0, 1, 1, 0, 1, 1,\n",
       "        1, 0, 0, 1, 0, 0, 1, 1, 1, 0, 1, 1, 1, 0, 1, 1, 1, 1, 1, 0, 0, 1,\n",
       "        0, 0, 0, 1, 0, 1, 1, 1, 1, 1, 0, 0, 0, 1, 1, 1, 1, 1, 0, 1, 1, 1,\n",
       "        1, 0, 1, 0, 0, 0, 0, 0, 1, 1, 1, 0, 0]))"
      ]
     },
     "execution_count": 81,
     "metadata": {},
     "output_type": "execute_result"
    }
   ],
   "source": [
    "X_test = mpg_test[[\"weight\"]]\n",
    "Y_test = mpg_test[[\"Old?\"]].values.ravel()\n",
    "pred = softmax_reg.predict(X_test)"
   ]
  },
  {
   "cell_type": "markdown",
   "metadata": {
    "tags": [
     "exercise-10-3"
    ]
   },
   "source": [
    "3. Make the confusion matrix and tell me how you interpret each of the cell in the confusion matrix. What does different depth of blue means. You can just run the cell below, assumed what you did above is correct. You just have to answer your understanding."
   ]
  },
  {
   "cell_type": "code",
   "execution_count": 82,
   "metadata": {},
   "outputs": [
    {
     "data": {
      "image/png": "[encoded data removed]",
      "text/plain": [
       "<Figure size 432x288 with 2 Axes>"
      ]
     },
     "metadata": {
      "needs_background": "light"
     },
     "output_type": "display_data"
    }
   ],
   "source": [
    "from sklearn.metrics import confusion_matrix\n",
    "confusion_matrix = confusion_matrix(Y_test, pred)\n",
    "X_label = ['old',  'new']\n",
    "def plot_confusion_matrix(cm, title='Confusion matrix', cmap=plt.cm.Blues):\n",
    "    plt.imshow(cm, interpolation='nearest', cmap=cmap)\n",
    "    plt.title(title)\n",
    "    plt.colorbar()\n",
    "    tick_marks = np.arange(len(X_label))\n",
    "    plt.xticks(tick_marks, X_label, rotation=45)\n",
    "    plt.yticks(tick_marks, X_label,)\n",
    "    plt.tight_layout()\n",
    "    plt.ylabel('True label')\n",
    "    plt.xlabel('Predicted label')\n",
    "plot_confusion_matrix(confusion_matrix)\n",
    "# confusion_matrix"
   ]
  },
  {
   "cell_type": "markdown",
   "metadata": {
    "tags": [
     "exercise-10-4"
    ]
   },
   "source": [
    "Your Answer Here"
   ]
  },
  {
   "cell_type": "code",
   "execution_count": 12,
   "metadata": {},
   "outputs": [
    {
     "name": "stdout",
     "output_type": "stream",
     "text": [
      "Parsed Intro to Machine Learning Homework.ipynb\n",
      "Enter your Berkeley email address: xinyiren@berkeley.edu\n",
      "Posting answers for Intro to Machine Learning Homework\n",
      "Your submission: {'exercise-1': 'Your Answer Here', 'exercise-1_output': None, 'exercise-2': 'Your Answer Here', 'exercise-2_output': None, 'exercise-3': 'Your Answer Here', 'exercise-3_output': None, 'exercise-4': \"bestplot = 'Put your letter answer between these quotes'\", 'exercise-4_output': None, 'exercise-5': 'graph1 = \"Put answer here\"\\ngraph2 = \"Put answer here\"\\ngraph3 = \"Put answer here\"', 'exercise-5_output': None, 'exercise-6': 'Your Answer Here', 'exercise-6_output': None, 'exercise-7': 'Your Answer Here', 'exercise-7_output': None, 'exercise-8': 'Your Answer Here', 'exercise-8_output': None, 'exercise-9': 'Your Answer Here', 'exercise-9_output': None, 'exercise-10-1': 'import pandas as pd\\n\\nmpg = pd.read_csv(\"./mpg_category.csv\", index_col=\"name\")\\n\\n#exercise part 1\\nmpg[\\'Old?\\'] = ... \\n\\n#exercise part 2\\nmpg_train, mpg_test = ..., ...\\n\\n#exercise part 3\\nfrom sklearn.linear_model import LogisticRegression\\nsoftmax_reg = LogisticRegression(multi_class=\"multinomial\",solver=\"lbfgs\", C=...)\\nX = ...\\nY = ...\\nsoftmax_reg.fit(X, Y)', 'exercise-10-1_output': None, 'exercise-10-2': '2. create the test data set and make the prediction on test dataset', 'exercise-10-2_output': None, 'exercise-10-3': '3. Make the confusion matrix and tell me how you interpret each of the cell in the confusion matrix. What does different depth of blue means. You can just run the cell below, assumed what you did above is correct. You just have to answer your understanding.', 'exercise-10-3_output': None, 'exercise-10-4': 'Your Answer Here', 'exercise-10-4_output': None, 'email': 'xinyiren@berkeley.edu', 'sheet': 'Intro to Machine Learning Homework', 'timestamp': datetime.datetime(2019, 3, 18, 16, 46, 54, 7302)}\n",
      "\n",
      "Submitted!\n"
     ]
    }
   ],
   "source": [
    "# be sure to hit save (File > Save and Checkpoint) or Ctrl/Command-S before you run the cell!\n",
    "from submit import create_and_submit\n",
    "\n",
    "create_and_submit(['Intro to Machine Learning Homework.ipynb'], verbose=True)"
   ]
  },
  {
   "cell_type": "code",
   "execution_count": null,
   "metadata": {
    "collapsed": true
   },
   "outputs": [],
   "source": []
  }
 ],
 "metadata": {
  "celltoolbar": "Tags",
  "kernelspec": {
   "display_name": "Python 3",
   "language": "python",
   "name": "python3"
  },
  "language_info": {
   "codemirror_mode": {
    "name": "ipython",
    "version": 3
   },
   "file_extension": ".py",
   "mimetype": "text/x-python",
   "name": "python",
   "nbconvert_exporter": "python",
   "pygments_lexer": "ipython3",
   "version": "3.7.1"
  }
 },
 "nbformat": 4,
 "nbformat_minor": 2
}
