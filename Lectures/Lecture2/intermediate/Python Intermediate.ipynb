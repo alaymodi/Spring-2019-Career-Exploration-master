{
 "cells": [
  {
   "cell_type": "markdown",
   "metadata": {},
   "source": [
    "# Lecture 2: \"Introduction\" to Python (Intermediate)\n",
    "## 2/20/19\n",
    "\n",
    "### Table Of Contents\n",
    "* [Q1: Worst Walk on Campus](#section1)\n",
    "* [Q2: Solving Sudoku](#section2)\n",
    "* [Q3: Alien Language](#section3)\n",
    "\n",
    "\n",
    "\n",
    "### Hosted by and maintained by the [Statistics Undergraduate Students Association (SUSA)](https://susa.berkeley.edu). Originally authored by [Ajay Raj](mailto:araj@berkeley.edu).\n"
   ]
  },
  {
   "cell_type": "markdown",
   "metadata": {},
   "source": [
    "Note: CS 61A is a pre-req for this lecture."
   ]
  },
  {
   "cell_type": "markdown",
   "metadata": {},
   "source": [
    "<a id='section1'></a>\n",
    "## Q1: Worst Walk on Campus\n",
    "\n",
    "References: \n",
    "- https://access.berkeley.edu/navigating-berkeley/campus-buildings"
   ]
  },
  {
   "cell_type": "markdown",
   "metadata": {},
   "source": [
    "Some documentation:\n",
    "- https://docs.python.org/3/tutorial/datastructures.html#list-comprehensions\n",
    "- https://docs.python.org/2/library/itertools.html#itertools.combinations\n",
    "- https://docs.python.org/2/library/functions.html"
   ]
  },
  {
   "cell_type": "code",
   "execution_count": null,
   "metadata": {
    "collapsed": true
   },
   "outputs": [],
   "source": [
    "from geopy.geocoders import Nominatim\n",
    "geolocator = Nominatim()\n",
    "building_names = []\n",
    "with open('berkeley/buildings.txt', 'r') as f:\n",
    "    for line in f.readlines():\n",
    "        building_names.append(line.strip())\n",
    "names_and_coordinates = {}\n",
    "for i, building_name in enumerate(building_names):\n",
    "    location = geolocator.geocode(building_name)\n",
    "    if location and 'Berkeley' in location.address:\n",
    "        names_and_coordinates[building_name] = (location.latitude, location.longitude)\n",
    "    print('Halls scanned: {0}/{1}'.format(i + 1, len(building_names)), end='\\r')"
   ]
  },
  {
   "cell_type": "markdown",
   "metadata": {},
   "source": [
    "If the code in above cell fails in any way, run the cell below instead."
   ]
  },
  {
   "cell_type": "code",
   "execution_count": null,
   "metadata": {
    "collapsed": true
   },
   "outputs": [],
   "source": [
    "import json\n",
    "\n",
    "names_and_coordinates = json.load(open('berkeley/cal_halls.json'))"
   ]
  },
  {
   "cell_type": "code",
   "execution_count": null,
   "metadata": {
    "collapsed": true
   },
   "outputs": [],
   "source": [
    "from math import sin, cos, sqrt, atan2, radians\n",
    "def haversine(lat1, lon1, lat2, lon2):\n",
    "    \"\"\"Calculates the straight line distance between two latitude-longitude coordinates\"\"\"\n",
    "    # approximate radius of earth in miles\n",
    "    R = 3959.0\n",
    "\n",
    "    lat1_r = radians(lat1)\n",
    "    lon1_r = radians(lon1)\n",
    "    lat2_r = radians(lat2)\n",
    "    lon2_r = radians(lon2)\n",
    "\n",
    "    dlon = lon2_r - lon1_r\n",
    "    dlat = lat2_r - lat1_r\n",
    "\n",
    "    a = sin(dlat / 2)**2 + cos(lat1_r) * cos(lat2_r) * sin(dlon / 2)**2\n",
    "    c = 2 * atan2(sqrt(a), sqrt(1 - a))\n",
    "\n",
    "    return R * c"
   ]
  },
  {
   "cell_type": "markdown",
   "metadata": {},
   "source": [
    "You are trying to create the most evil schedule on campus, which contains back-to-back classes in buildings that are the furthest apart on campus. You are given the buildings and coordinates of those locations in a dictionary that can be queried as follows:"
   ]
  },
  {
   "cell_type": "code",
   "execution_count": null,
   "metadata": {
    "collapsed": true
   },
   "outputs": [],
   "source": [
    "names_and_coordinates['Soda Hall'], names_and_coordinates['Cory Hall']"
   ]
  },
  {
   "cell_type": "markdown",
   "metadata": {},
   "source": [
    "**Write a function that returns a tuple of the furthest two buildings on campus, and the distance in miles between the two.**"
   ]
  },
  {
   "cell_type": "code",
   "execution_count": null,
   "metadata": {
    "collapsed": true
   },
   "outputs": [],
   "source": [
    "from itertools import combinations\n",
    "\n",
    "def furthest_walk_on_campus(names_and_coordinates):\n",
    "    def key_fn(entry):\n",
    "        \"\"\"Could be useful with the built-in max() function\"\"\"\n",
    "    \"\"\"YOUR CODE HERE\"\"\""
   ]
  },
  {
   "cell_type": "code",
   "execution_count": null,
   "metadata": {
    "collapsed": true,
    "scrolled": true
   },
   "outputs": [],
   "source": [
    "print('The furthest walk on campus is {0} to {1}, which is {2} miles'.format(*furthest_walk_on_campus(names_and_coordinates)))"
   ]
  },
  {
   "cell_type": "markdown",
   "metadata": {},
   "source": [
    "**Extension**: Distance isn't always the best measure of the worst walk. Use Google Maps Matrix API (https://developers.google.com/maps/documentation/distance-matrix/start)'s time to destination function to rank the walks instead."
   ]
  },
  {
   "cell_type": "markdown",
   "metadata": {},
   "source": [
    "<a id='section2'></a>\n",
    "## Q2: Solving Sudoku"
   ]
  },
  {
   "cell_type": "markdown",
   "metadata": {},
   "source": [
    "References:\n",
    "- http://lipas.uwasa.fi/~timan/sudoku/"
   ]
  },
  {
   "cell_type": "code",
   "execution_count": 1,
   "metadata": {},
   "outputs": [
    {
     "data": {
      "text/plain": [
       "[['0', '0', '0', '0', '0', '3', '0', '1', '7'],\n",
       " ['0', '1', '5', '0', '0', '9', '0', '0', '8'],\n",
       " ['0', '6', '0', '0', '0', '0', '0', '0', '0'],\n",
       " ['1', '0', '0', '0', '0', '7', '0', '0', '0'],\n",
       " ['0', '0', '9', '0', '0', '0', '2', '0', '0'],\n",
       " ['0', '0', '0', '5', '0', '0', '0', '0', '4'],\n",
       " ['0', '0', '0', '0', '0', '0', '0', '2', '0'],\n",
       " ['5', '0', '0', '6', '0', '0', '3', '4', '0'],\n",
       " ['3', '4', '0', '2', '0', '0', '0', '0', '0']]"
      ]
     },
     "execution_count": 1,
     "metadata": {},
     "output_type": "execute_result"
    }
   ],
   "source": [
    "def read_board(filename):\n",
    "    with open(filename, 'r') as f:\n",
    "        lines = f.readlines()\n",
    "        board = []\n",
    "        for line in lines:\n",
    "            board.append(line.split(' ')[:-1])\n",
    "    return board[:-1]\n",
    "\n",
    "read_board('sudoku-puzzles/puzzle1.txt')"
   ]
  },
  {
   "cell_type": "code",
   "execution_count": null,
   "metadata": {
    "collapsed": true
   },
   "outputs": [],
   "source": [
    "def check_solution(original_board, board):\n",
    "    \"\"\"Checks that the board has a valid solution based on Sudoku rules. \n",
    "    This does NOT test all of the rules! Don't use it to help you with the other parts.\n",
    "    \"\"\"\n",
    "    for i in range(len(original_board)):\n",
    "        for j in range(len(original_board[0])):\n",
    "            if original_board[i][j] != '0' and original_board[i][j] != board[i][j]:\n",
    "                return False\n",
    "    for row in board:\n",
    "        if sum(int(digit) for digit in row) != 45:\n",
    "            return False\n",
    "    for col in range(len(original_board[0])):\n",
    "        if sum([int(original_board[i][col]) for i in range(len(original_board))]) != 45:\n",
    "            return False\n",
    "    return True"
   ]
  },
  {
   "cell_type": "markdown",
   "metadata": {},
   "source": [
    "In this problem, you will write a solver for the classic puzzle game, Sudoku. Here are the rules if you are unfamiliar: http://www.counton.org/sudoku/rules-of-sudoku.php\n",
    "\n",
    "You will be implementing a solver using depth-first backtracking search. Don't worry about how complicated it sounds: it's a fancy way of saying, try random numbers in each box, and if you break the rules, erase and start over.\n",
    "\n",
    "We will be representing our board as a list of lists, where each list is a row on the Sudoku board. '0' represents a blank space on the board.\n",
    "\n",
    "**Complete the following functions to create your Sudoku solver.**"
   ]
  },
  {
   "cell_type": "code",
   "execution_count": null,
   "metadata": {
    "collapsed": true
   },
   "outputs": [],
   "source": [
    "def get_first_empty_cell(board):\n",
    "    \"\"\"Gets the first empty cell on the board, left to right, up to down\"\"\"\n",
    "    \"\"\"YOUR CODE HERE\"\"\"\n",
    "    # if none available, return -1, -1\n",
    "    return -1, -1"
   ]
  },
  {
   "cell_type": "code",
   "execution_count": null,
   "metadata": {
    "collapsed": true
   },
   "outputs": [],
   "source": [
    "def is_placement_valid(board, i, j, val):\n",
    "    \"\"\"Checks if placing <val> at position (i, j) on the board is a valid move\"\"\"\n",
    "    \"\"\"YOUR CODE HERE\"\"\""
   ]
  },
  {
   "cell_type": "code",
   "execution_count": null,
   "metadata": {
    "collapsed": true
   },
   "outputs": [],
   "source": [
    "def solve(board):\n",
    "    \"\"\"Solves a Sudoku board: here are the steps:\n",
    "    \n",
    "        1. Find an empty cell\n",
    "        2. Find a value to place in that empty cell, if none exist (-1, -1), return True (because all spaces are filled)\n",
    "        3. Place the value in the empty cell\n",
    "        4. Recursively call solve(board):\n",
    "            a. If a solution is found, return it\n",
    "            b. If no solution is found with this placement, replace the value with '0', and try a new value\n",
    "        5. Return False if there is no value to place\n",
    "    \"\"\"\n",
    "    \"\"\"YOUR CODE HERE\"\"\""
   ]
  },
  {
   "cell_type": "code",
   "execution_count": null,
   "metadata": {
    "collapsed": true
   },
   "outputs": [],
   "source": [
    "# Run this cell to test your code on the sample puzzles\n",
    "\n",
    "puzzles = ['sudoku-puzzles/puzzle1.txt', 'sudoku-puzzles/puzzle2.txt']\n",
    "\n",
    "for puzzle in puzzles:\n",
    "    original_board = read_board(puzzle)\n",
    "    print('Testing', puzzle)\n",
    "    if not check_solution(original_board, solve(original_board)):\n",
    "        print('Failed on', puzzle)"
   ]
  },
  {
   "cell_type": "markdown",
   "metadata": {
    "collapsed": true
   },
   "source": [
    "<a id='section3'></a>\n",
    "## Q3: Alien Language"
   ]
  },
  {
   "cell_type": "code",
   "execution_count": null,
   "metadata": {
    "collapsed": true
   },
   "outputs": [],
   "source": [
    "from collections import defaultdict\n",
    "import random\n",
    "from numpy import allclose\n",
    "\n",
    "alphabet = ''.join([chr(97 + i) for i in range(26)])\n",
    "english_frequencies = {\n",
    "    'a': 0.08924485125858124,\n",
    "    'b': 0.02517162471395881,\n",
    "    'c': 0.038901601830663615,\n",
    "    'd': 0.02745995423340961,\n",
    "    'e': 0.11441647597254005,\n",
    "    'f': 0.02517162471395881,\n",
    "    'g': 0.02288329519450801,\n",
    "    'h': 0.043478260869565216,\n",
    "    'i': 0.07322654462242563,\n",
    "    'k': 0.009153318077803204,\n",
    "    'l': 0.034324942791762014,\n",
    "    'm': 0.041189931350114416,\n",
    "    'n': 0.05491990846681922,\n",
    "    'o': 0.08466819221967964,\n",
    "    'p': 0.016018306636155607,\n",
    "    'q': 0.002288329519450801,\n",
    "    'r': 0.05491990846681922,\n",
    "    's': 0.07093821510297482,\n",
    "    't': 0.09610983981693363,\n",
    "    'u': 0.036613272311212815,\n",
    "    'v': 0.009153318077803204,\n",
    "    'w': 0.004576659038901602,\n",
    "    'y': 0.02288329519450801,\n",
    "    'z': 0.002288329519450801\n",
    "}"
   ]
  },
  {
   "cell_type": "code",
   "execution_count": null,
   "metadata": {
    "collapsed": true
   },
   "outputs": [],
   "source": [
    "alphabet"
   ]
  },
  {
   "cell_type": "markdown",
   "metadata": {},
   "source": [
    "You've received an alien transmission from above! It might be the answer: to your life, to the planet, to the universe, to everything!"
   ]
  },
  {
   "cell_type": "code",
   "execution_count": null,
   "metadata": {
    "collapsed": true
   },
   "outputs": [],
   "source": [
    "secret = open('alien/secret.txt').readline().strip()\n",
    "secret"
   ]
  },
  {
   "cell_type": "markdown",
   "metadata": {},
   "source": [
    "That's alien language, all right. Fortunately, they've left you the following note:"
   ]
  },
  {
   "cell_type": "code",
   "execution_count": null,
   "metadata": {
    "collapsed": true
   },
   "outputs": [],
   "source": [
    "partial_mapping = {\n",
    "    'f': 'r',\n",
    "    'g': 'f',\n",
    "    'i': 'n',\n",
    "    'n': 'y',\n",
    "    'u': 'z',\n",
    "    'm': 'v'\n",
    "}"
   ]
  },
  {
   "cell_type": "markdown",
   "metadata": {},
   "source": [
    "You realize that this alien language isn't so foreign at all, it is a simple **substitution cipher** of the English language, which means that every letter in the alien language corresponds to exactly one letter in the English alphabet.\n",
    "\n",
    "As a short-sighted mammal, you believe that alien life is similar to life on Earth. As a minor linguist yourself, you have the frequencies that each English letter appears in literature. To discover the rest of the mapping, you decide to find the frequencies that each letter appears in the alien text, map it to the closest frequency in the English alphabet.\n",
    "\n",
    "**Complete the following functions to translate the text:**"
   ]
  },
  {
   "cell_type": "code",
   "execution_count": null,
   "metadata": {
    "collapsed": true
   },
   "outputs": [],
   "source": [
    "def get_frequencies(text):\n",
    "    \"\"\"Creates a dictionary where each key is a letter of the alphabet, and each corresponding value is\n",
    "    the frequency (number of times the letter appears / total number of letters in the passage).\n",
    "    Don't forget to ignore spaces!\"\"\"\n",
    "    \"\"\"YOUR CODE HERE\"\"\""
   ]
  },
  {
   "cell_type": "code",
   "execution_count": null,
   "metadata": {
    "collapsed": true
   },
   "outputs": [],
   "source": [
    "def permute(text, mapping):\n",
    "    \"\"\"Converts every letter in <text> to its substitution in <mapping>, and return the mapped text\"\"\"\n",
    "    \"\"\"YOUR CODE HERE\"\"\""
   ]
  },
  {
   "cell_type": "code",
   "execution_count": null,
   "metadata": {
    "collapsed": true
   },
   "outputs": [],
   "source": [
    "def get_mapping(partial_mapping, english_frequencies, alien_frequencies):\n",
    "    \"\"\"Complete <partial_mapping> by matching each unmapped letter in <alien_frequencies> to its corresponding\n",
    "    English letter\"\"\"\n",
    "    \"\"\"YOUR CODE HERE\"\"\""
   ]
  },
  {
   "cell_type": "code",
   "execution_count": null,
   "metadata": {
    "collapsed": true
   },
   "outputs": [],
   "source": [
    "def translate(alien_text, partial_mapping):\n",
    "    \"\"\"Translate the alien text, by completing the mapping and substituting.\"\"\"\n",
    "    \"\"\"YOUR CODE HERE\"\"\""
   ]
  },
  {
   "cell_type": "code",
   "execution_count": null,
   "metadata": {
    "collapsed": true
   },
   "outputs": [],
   "source": [
    "print('The answer to life itself is: ', translate(secret, partial_mapping))"
   ]
  }
 ],
 "metadata": {
  "kernelspec": {
   "display_name": "Python (deeplearning)",
   "language": "python",
   "name": "deeplearning"
  },
  "language_info": {
   "codemirror_mode": {
    "name": "ipython",
    "version": 3
   },
   "file_extension": ".py",
   "mimetype": "text/x-python",
   "name": "python",
   "nbconvert_exporter": "python",
   "pygments_lexer": "ipython3",
   "version": "3.6.3"
  }
 },
 "nbformat": 4,
 "nbformat_minor": 2
}
