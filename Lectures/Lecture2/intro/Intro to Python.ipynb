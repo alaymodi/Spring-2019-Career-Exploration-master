{
 "cells": [
  {
   "cell_type": "markdown",
   "metadata": {},
   "source": [
    "# Lecture 2: Intro to Python\n",
    "\n",
    "## 2/20/19\n",
    "\n",
    "### Table of Contents\n",
    "0. [Why Python?](#why-python)\n",
    "1. [Basic Python Syntax](#basic-syntax)  \n",
    "    1.1 [Jupyter](#jupyter)  \n",
    "    1.2 [Code](#code)  \n",
    "    1.3 [Comments](#comments)  \n",
    "    1.4 [Errors](#errors)  \n",
    "    1.5 [Numbers and Arithmetic](#numbers)  \n",
    "2. [Variables and Functions](#vars-functions)  \n",
    "    2.1 [Variables](#vars)  \n",
    "    2.2 [Control Flow](#control-flow)  \n",
    "    2.3 [Functions](#funcs)  \n",
    "3. [Arrays and Iteration](#arrs-iter)  \n",
    "    3.1 [Arrays and Lists](#arrs)  \n",
    "    3.2 [Dictionaries](#dicts)  \n",
    "    3.3 [For Loops](#for)  \n",
    "4. [Exercises](#exercises)\n",
    "5. [Homework](#homework)\n",
    "6. [Resources](#resources)\n",
    "\n",
    "\n",
    "### Hosted by and maintained by the [Statistics Undergraduate Students Association (SUSA)](https://susa.berkeley.edu). Authored by [Rosa Choe](mailto:rosachoe@berkeley.edu) and [Ajay Raj](mailto:araj@berkeley.edu)"
   ]
  },
  {
   "cell_type": "markdown",
   "metadata": {},
   "source": [
    "<a id=\"why-python\"></a>\n",
    "\n",
    "## Why Python?"
   ]
  },
  {
   "cell_type": "markdown",
   "metadata": {},
   "source": [
    "Python is a widely used programming language, and it's one of the easiest to learn because of how similar it is to [psuedocode](https://en.wikipedia.org/wiki/Pseudocode) - basically, it looks really similar to regular English, so it can be easier to pick up and understand for people who are new to programming!\n",
    "\n",
    "That doesn't mean you should underestimate the power of Python! Despite being \"simple\", it's used for a wide array of computational tasks, including backend web development, image processing, and data analysis (which is what we will focus on this semester).\n",
    "\n",
    "Because of how popular it is, there's also a large community of Python developers that work on 3rd-party Python packages to simplify a lot of tasks. Many of these are open-source projects, which means you can look at the code directly and even contribute to it (if you want). This also means that a lot of the more popular packages have been thoroughly tested for bugs and fixed by thousands (millions?) of people. You can browse some of these packages at the [Python Packge Index (PyPI)](https://pypi.org), and we'll be using a lot of these packages throughout this semester."
   ]
  },
  {
   "cell_type": "markdown",
   "metadata": {},
   "source": [
    "<a id=\"basic-syntax\"></a>\n",
    "\n",
    "## 1. Basic Python Syntax\n"
   ]
  },
  {
   "cell_type": "markdown",
   "metadata": {},
   "source": [
    "<a id='jupyter'></a>\n",
    "\n",
    "### 1.1 Jupyter\n"
   ]
  },
  {
   "cell_type": "markdown",
   "metadata": {},
   "source": [
    "First things first! We're gonna learn how to navigate this screen you're looking at right now. This is called a [Jupyter Notebook](https://jupyter.org). It's an interactive notebook that can both render text and run code! \n",
    "\n",
    "**Fun fact!** The creator of the Jupyter Notebooks (formerly known as the IPython Notebook), Fernando Perez, is a UC Berkeley Department of Statistics professor and has attended several of SUSA's faculty dinners!"
   ]
  },
  {
   "cell_type": "markdown",
   "metadata": {},
   "source": [
    "If you click anywhere on the notebook, you'll notice the content is highlighted with a box around it. Each of these boxes is called a *cell*. In Jupyter notebooks, there are two main types of cells:"
   ]
  },
  {
   "cell_type": "markdown",
   "metadata": {},
   "source": [
    "A. *Markdown (Text)*\n",
    "- These are the ones you've seen so far\n",
    "- You can edit by double-clicking or pressing `enter` while highlighted\n",
    "- They just consist of text and you can do some cool things like making this list or *italics* or **bold**\n",
    "- If you want to read more about what you can do with Markdown check out the link [here](github.com/adam-p/markdown-here/wiki/Markdown-Cheatsheet)"
   ]
  },
  {
   "cell_type": "markdown",
   "metadata": {},
   "source": [
    "**Practice**: Edit the cell below with your *deepest darkest secret*"
   ]
  },
  {
   "cell_type": "markdown",
   "metadata": {},
   "source": [
    "I hate chocolate"
   ]
  },
  {
   "cell_type": "markdown",
   "metadata": {},
   "source": [
    "B. *Code*\n",
    "- cells that contain code (like Python)\n",
    "- running a cell will execute all of its contents\n",
    "- can be edited by single-clicking on its contents or by pressing `enter` while highlighted\n",
    "- to run the code in a cell press the `▶| Run` button or press `shift` + `enter` while highlighted"
   ]
  },
  {
   "cell_type": "markdown",
   "metadata": {},
   "source": [
    "**Practice**: Try running the cell below"
   ]
  },
  {
   "cell_type": "code",
   "execution_count": null,
   "metadata": {},
   "outputs": [],
   "source": [
    "print(\"hello world\")"
   ]
  },
  {
   "cell_type": "markdown",
   "metadata": {},
   "source": [
    "Jupyter also has some handy keyboard shortcuts. You can see all of them by clicking the `Help` toolbar and `Keyboard Shortcuts`, but here's a few you'll probably be using a lot:\n",
    "- `esc`: allows you to exit editing mode and manipulate cells and navigate using arrow keys\n",
    "- `esc` + `h`: open keyboard shortcuts\n",
    "- `esc` + `p`: open command palette (search through commands and shortcuts)\n",
    "- `esc` + `m`: change cell to a markdown cell\n",
    "- `esc` + `y`: change cell to a code cell\n",
    "- `esc` + `a`: insert a new code cell above\n",
    "- `esc` + `b`: insert a new code cell below\n",
    "- `esc` + `d` + `d`: delete the current cell\n",
    "- `shift` + `enter`: run current cell and move cursor to next cell\n",
    "- `ctrl` + `enter`: run current cell and don't move cursor\n",
    "- `opt/alt` + `enter`: run current cell and create new cell below\n",
    "\n",
    "Take  moment to try out each of these shortcuts so you get a feel for what they do!"
   ]
  },
  {
   "cell_type": "markdown",
   "metadata": {},
   "source": [
    "<a id='code'></a>\n",
    "\n",
    "### 1.2 Code\n"
   ]
  },
  {
   "cell_type": "markdown",
   "metadata": {},
   "source": [
    "In Python, each command is written on a separate line, and each line is executed in order."
   ]
  },
  {
   "cell_type": "code",
   "execution_count": null,
   "metadata": {},
   "outputs": [],
   "source": [
    "print(\"hello\")\n",
    "print(\"world\")"
   ]
  },
  {
   "cell_type": "markdown",
   "metadata": {},
   "source": [
    "**Practice**: Alter the code above so that the output looks like this:\n",
    "\n",
    "    rosa is my favorite s u s a member\n",
    "    today\n",
    "    is\n",
    "    patrick's\n",
    "    birthday"
   ]
  },
  {
   "cell_type": "markdown",
   "metadata": {},
   "source": [
    "<a id='comments'></a>\n",
    "\n",
    "### 1.3 Comments\n",
    "\n"
   ]
  },
  {
   "cell_type": "markdown",
   "metadata": {},
   "source": [
    "Sometimes, you might see something that looks like this:"
   ]
  },
  {
   "cell_type": "code",
   "execution_count": null,
   "metadata": {},
   "outputs": [],
   "source": [
    "# This is a comment\n",
    "# Any line that starts with `#` is ignored by the computer when executing code\n",
    "\"\"\"\n",
    "Comments can also look like this (this is called a docstring)\n",
    "These are multi-line comments that are often used to describe what functions do\n",
    "\"\"\" \n",
    "print(\"Python will still execute non-commented lines in the same cell!\")\n",
    "# print(\"but this will be ignored\")\n",
    "# pls notice me :'("
   ]
  },
  {
   "cell_type": "markdown",
   "metadata": {},
   "source": [
    "<a id='errors'></a>\n",
    "\n",
    "### 1.4 Errors\n"
   ]
  },
  {
   "cell_type": "markdown",
   "metadata": {},
   "source": [
    "Everyone makes mistakes, everyone has those days, everyone knows what I'm talking about...luckily Python has come to save the day so you *know* when something you've written is syntactically wrong! Python informs you of mistakes through *error messages*. Try running the cell below to see what an error message looks like:"
   ]
  },
  {
   "cell_type": "code",
   "execution_count": null,
   "metadata": {},
   "outputs": [],
   "source": [
    "print(\"hello\""
   ]
  },
  {
   "cell_type": "markdown",
   "metadata": {},
   "source": [
    "The error message tells you where your error is and what went wrong. In this case we made a `SyntaxError` , which means the structure of our code is flawed. There are many different types of `Error`s that you'll encounter in your Python adventures, but `SyntaxError`s are probably some of the most common you'll see.\n",
    "\n",
    "**Practice**: Try to fix the `SyntaxError` in the cell above"
   ]
  },
  {
   "cell_type": "markdown",
   "metadata": {},
   "source": [
    "<a id='numbers'></a>\n",
    "\n",
    "### 1.5 Numbers and Arithmetic"
   ]
  },
  {
   "cell_type": "markdown",
   "metadata": {},
   "source": [
    "One of the most basic things you can do with Python is math! You can use it as a calculator to perform simple functions like addition, subtraction, multiplication, etc, etc. It'll take any numerical `expression`, which can be a single number or a combination of numbers and operators/functions and evaluate them line by line."
   ]
  },
  {
   "cell_type": "code",
   "execution_count": null,
   "metadata": {},
   "outputs": [],
   "source": [
    "12.100000"
   ]
  },
  {
   "cell_type": "markdown",
   "metadata": {},
   "source": [
    "If you ran the cell above, you'll notice that it outputted `12.1` even though you didn't explicitly `print()` it. Whenever you run a code chunk, Jupyter will output the value of the very last line evaluated, if it has one. However, it will only do this for the very last line!\n",
    "\n",
    "What do you expect will happen when you run the cell below?"
   ]
  },
  {
   "cell_type": "code",
   "execution_count": null,
   "metadata": {},
   "outputs": [],
   "source": [
    "print(2)\n",
    "1\n",
    "2\n",
    "3"
   ]
  },
  {
   "cell_type": "markdown",
   "metadata": {},
   "source": [
    "You can also do basic arithmetic functions like:"
   ]
  },
  {
   "cell_type": "markdown",
   "metadata": {},
   "source": [
    "Addition: `+`"
   ]
  },
  {
   "cell_type": "code",
   "execution_count": null,
   "metadata": {},
   "outputs": [],
   "source": [
    "2 + 3"
   ]
  },
  {
   "cell_type": "markdown",
   "metadata": {},
   "source": [
    "Subtraction: `-`"
   ]
  },
  {
   "cell_type": "code",
   "execution_count": null,
   "metadata": {},
   "outputs": [],
   "source": [
    "20 - 7"
   ]
  },
  {
   "cell_type": "markdown",
   "metadata": {},
   "source": [
    "Multiplication: `*`"
   ]
  },
  {
   "cell_type": "code",
   "execution_count": null,
   "metadata": {},
   "outputs": [],
   "source": [
    "3 * 5"
   ]
  },
  {
   "cell_type": "markdown",
   "metadata": {},
   "source": [
    "Division: `/`"
   ]
  },
  {
   "cell_type": "code",
   "execution_count": null,
   "metadata": {},
   "outputs": [],
   "source": [
    "5 / 3"
   ]
  },
  {
   "cell_type": "markdown",
   "metadata": {},
   "source": [
    "Floor Division: `//`"
   ]
  },
  {
   "cell_type": "code",
   "execution_count": null,
   "metadata": {},
   "outputs": [],
   "source": [
    "5 // 3"
   ]
  },
  {
   "cell_type": "markdown",
   "metadata": {},
   "source": [
    "Modulo (Remainder): `%`"
   ]
  },
  {
   "cell_type": "code",
   "execution_count": null,
   "metadata": {},
   "outputs": [],
   "source": [
    "5 % 3"
   ]
  },
  {
   "cell_type": "markdown",
   "metadata": {},
   "source": [
    "Exponentiation: `**`"
   ]
  },
  {
   "cell_type": "code",
   "execution_count": null,
   "metadata": {},
   "outputs": [],
   "source": [
    "3 ** 2"
   ]
  },
  {
   "cell_type": "markdown",
   "metadata": {},
   "source": [
    "Make sure there are no spaces between the `*`! Otherwise there will be an error"
   ]
  },
  {
   "cell_type": "markdown",
   "metadata": {},
   "source": [
    "Python follows the order of operations!"
   ]
  },
  {
   "cell_type": "code",
   "execution_count": null,
   "metadata": {},
   "outputs": [],
   "source": [
    "12 + 4 * 7 - 6 * 3 ** 4 * 2 ** 5 / 3 * 6"
   ]
  },
  {
   "cell_type": "markdown",
   "metadata": {},
   "source": [
    "<a id=\"vars-functions\"></a>\n",
    "\n",
    "## 2. Variables and Functions"
   ]
  },
  {
   "cell_type": "markdown",
   "metadata": {},
   "source": [
    "Stringing together arithmetic functions like above is all fine and dandy, but it can be hard to read. What if you want to reuse the same value that you've calculated? Should you just copy and paste the expression every time? What if you wanted to calculate the same value as above, but with different numbers? Should you copy and paste and change the numbers manually?"
   ]
  },
  {
   "cell_type": "markdown",
   "metadata": {},
   "source": [
    "Nope! A better (more readable, more efficient) way to write code is through using *variables* and *functions*.\n"
   ]
  },
  {
   "cell_type": "markdown",
   "metadata": {},
   "source": [
    "<a id='vars'></a>\n",
    "\n",
    "### 2.1 Variables"
   ]
  },
  {
   "cell_type": "markdown",
   "metadata": {},
   "source": [
    "Variables allow you to save values to named objects by using *assignment statements*. In Python an assignment statement is of the form\n",
    "\n",
    "    {variable name} = {value}\n",
    "\n",
    "Variable names can be any combination of letters, numbers, and underscores (`_`), starting with a letter or underscore. A variable name starting with an underscore is generally for internal use, so for now, don't use them."
   ]
  },
  {
   "cell_type": "code",
   "execution_count": null,
   "metadata": {},
   "outputs": [],
   "source": [
    "x = 3\n",
    "y = \"potato\""
   ]
  },
  {
   "cell_type": "markdown",
   "metadata": {},
   "source": [
    "Are these valid variable names?\n",
    "- susa2019\n",
    "- 2019susa\n",
    "- susa_is_great\n",
    "- susa-is-great\n",
    "- susaIsGreat\n",
    "- susaIsGreat!\n",
    "- \\_susa"
   ]
  },
  {
   "cell_type": "markdown",
   "metadata": {},
   "source": [
    "All variables must be defined before they're used, otherwise you'll get an error, because Python doesn't know what you're talking about."
   ]
  },
  {
   "cell_type": "code",
   "execution_count": null,
   "metadata": {},
   "outputs": [],
   "source": [
    "aylmao"
   ]
  },
  {
   "cell_type": "markdown",
   "metadata": {},
   "source": [
    "Each variable has a different `type`. The type of a variable determines what you can do with it, following Python's type rules. Let's check what types our variables `x` and `y` are. You can do this by using the `type()` function."
   ]
  },
  {
   "cell_type": "code",
   "execution_count": null,
   "metadata": {},
   "outputs": [],
   "source": [
    "print() # print the type of x\n",
    "\n",
    "print() # print the type of y"
   ]
  },
  {
   "cell_type": "markdown",
   "metadata": {},
   "source": [
    "**Question**: Logically, what do you think should happen when you run the cell below?"
   ]
  },
  {
   "cell_type": "code",
   "execution_count": null,
   "metadata": {},
   "outputs": [],
   "source": [
    "x + y"
   ]
  },
  {
   "cell_type": "markdown",
   "metadata": {},
   "source": [
    "As you can see above, when you try to perform operations on objects that are the wrong type, you get a `TypeError`. There are several built-in types in Python, including the ones you've seen already. We'll look at some basic ones here:"
   ]
  },
  {
   "cell_type": "markdown",
   "metadata": {},
   "source": [
    "A. *Strings* (`str`)\n",
    "- any combination of characters surrounded by double-(\") or single-(') quotes"
   ]
  },
  {
   "cell_type": "code",
   "execution_count": null,
   "metadata": {},
   "outputs": [],
   "source": [
    "string1 = \"potato\"\n",
    "string2 = 'what'"
   ]
  },
  {
   "cell_type": "markdown",
   "metadata": {},
   "source": [
    "B. *Numerics*\n",
    "- envelopes many subtypes that all represent numbers\n",
    "- Two common types: \n",
    "    - `int`: represent integers (whole numbers)\n",
    "    - `float`: represent numbers with decimals"
   ]
  },
  {
   "cell_type": "code",
   "execution_count": null,
   "metadata": {},
   "outputs": [],
   "source": [
    "int1 = 5\n",
    "float1 = 22.3"
   ]
  },
  {
   "cell_type": "markdown",
   "metadata": {},
   "source": [
    "C. Booleans (`bool`)\n",
    "- represent truth values\n",
    "- only two possible values:\n",
    "    - `True`\n",
    "    - `False`"
   ]
  },
  {
   "cell_type": "code",
   "execution_count": null,
   "metadata": {},
   "outputs": [],
   "source": [
    "bool1 = True\n",
    "bool2 = False"
   ]
  },
  {
   "cell_type": "markdown",
   "metadata": {},
   "source": [
    "For working with `bool`s, we will introduce three more operators:"
   ]
  },
  {
   "cell_type": "markdown",
   "metadata": {},
   "source": [
    "1. `and`\n",
    "    - returns `True` if the expressions on both sides evaluate to `True`"
   ]
  },
  {
   "cell_type": "code",
   "execution_count": null,
   "metadata": {},
   "outputs": [],
   "source": [
    "bool1 and bool2"
   ]
  },
  {
   "cell_type": "markdown",
   "metadata": {},
   "source": [
    "2. `or`\n",
    "    - returns `True` if either of the expressions evaluate to `True`"
   ]
  },
  {
   "cell_type": "code",
   "execution_count": null,
   "metadata": {},
   "outputs": [],
   "source": [
    "bool1 or bool2"
   ]
  },
  {
   "cell_type": "markdown",
   "metadata": {},
   "source": [
    "3. `not`\n",
    "    - returns the opposite boolean value of the expression on the right"
   ]
  },
  {
   "cell_type": "code",
   "execution_count": null,
   "metadata": {},
   "outputs": [],
   "source": [
    "not bool1"
   ]
  },
  {
   "cell_type": "markdown",
   "metadata": {},
   "source": [
    "The primitive operators we've talked about already (`+`, `-`, `*`, `/`) work with some of these built-in types. Try different combinations of the variables above to see which operators work on which variables!"
   ]
  },
  {
   "cell_type": "code",
   "execution_count": null,
   "metadata": {},
   "outputs": [],
   "source": [
    "string1 + string2"
   ]
  },
  {
   "cell_type": "code",
   "execution_count": null,
   "metadata": {},
   "outputs": [],
   "source": [
    "string1 * int1"
   ]
  },
  {
   "cell_type": "markdown",
   "metadata": {},
   "source": [
    "<a id='control-flow'></a>\n",
    "\n",
    "### 2.2 Control Flow"
   ]
  },
  {
   "cell_type": "markdown",
   "metadata": {},
   "source": [
    "We can use `bool`s to control how our programs execute. *Control flow* allows us to decide if we want to conditionally execute code, or run a certain line of code multiple times. Here are a couple control flow operations."
   ]
  },
  {
   "cell_type": "markdown",
   "metadata": {},
   "source": [
    "A. `if`\n",
    "- allows you to execute a chunk of code only if a certain condition is satisfied"
   ]
  },
  {
   "cell_type": "code",
   "execution_count": null,
   "metadata": {},
   "outputs": [],
   "source": [
    "if int1 < 10:\n",
    "    int1 = int1 + float1\n",
    "    \n",
    "int1"
   ]
  },
  {
   "cell_type": "markdown",
   "metadata": {},
   "source": [
    "We can make these if statements more complex by adding `elif` and  `else`. "
   ]
  },
  {
   "cell_type": "code",
   "execution_count": null,
   "metadata": {},
   "outputs": [],
   "source": [
    "if int1 < 10:\n",
    "    int1 = int1 + float1\n",
    "elif int1 > 10:\n",
    "    int1 = int1 - float1\n",
    "else:\n",
    "    print(\"omg int1 is 10!\")"
   ]
  },
  {
   "cell_type": "markdown",
   "metadata": {},
   "source": [
    "The `elif` says \"if the previous statements aren't true but this one is true, execute the code in this body\". The `else` says \"if all previous statements weren't true, unconditionally execute this body\". You can have as many `elif` statements as you want, but you can only have one `if` and `else`, which must be placed at the top and bottom of your if-elif-else chain, respectively."
   ]
  },
  {
   "cell_type": "markdown",
   "metadata": {},
   "source": [
    "B. `while`\n",
    "- allows you to continuously run the same chunk of code while a certain condition is met"
   ]
  },
  {
   "cell_type": "code",
   "execution_count": null,
   "metadata": {},
   "outputs": [],
   "source": [
    "while int1 < 10:\n",
    "    int1 = int1 + 1\n",
    "    print(string1)\n",
    "    \n",
    "int1"
   ]
  },
  {
   "cell_type": "markdown",
   "metadata": {},
   "source": [
    "**Practice**: Try printing your name as many times as your age, i.e. if you're 20, print your name 20 times, without using 20 print statements"
   ]
  },
  {
   "cell_type": "code",
   "execution_count": null,
   "metadata": {},
   "outputs": [],
   "source": []
  },
  {
   "cell_type": "markdown",
   "metadata": {},
   "source": [
    "<a id='funcs'></a>\n",
    "\n",
    "### 2.3 Functions"
   ]
  },
  {
   "cell_type": "markdown",
   "metadata": {},
   "source": [
    "Another type of object in Python are *functions*. Functions allow you to give a name to a set of expressions, in the case that you want to be able to repeat an action on various inputs or reuse logic without copy and pasting. Functions can be defined in the following form: \n",
    "\n",
    "    def {function name}:\n",
    "        {function body}\n",
    "        \n",
    "The same rules for naming variables apply to naming functions."
   ]
  },
  {
   "cell_type": "markdown",
   "metadata": {},
   "source": [
    "Here's an example of a simple function that we might want to use. This allows us to square any input without having to type out `x * x` every time we want to square something."
   ]
  },
  {
   "cell_type": "code",
   "execution_count": null,
   "metadata": {},
   "outputs": [],
   "source": [
    "def square(x):\n",
    "    return x * x"
   ]
  },
  {
   "cell_type": "markdown",
   "metadata": {},
   "source": [
    "Now we can call this function on any valid inputs!"
   ]
  },
  {
   "cell_type": "code",
   "execution_count": null,
   "metadata": {},
   "outputs": [],
   "source": [
    "print(square(2))\n",
    "print(square(1.3))"
   ]
  },
  {
   "cell_type": "markdown",
   "metadata": {},
   "source": [
    "What do you think will happen if we try to call `square()` on a string?"
   ]
  },
  {
   "cell_type": "code",
   "execution_count": null,
   "metadata": {},
   "outputs": [],
   "source": [
    "square('hello')"
   ]
  },
  {
   "cell_type": "markdown",
   "metadata": {},
   "source": [
    "This brings us back to our type definitions from before. Unlike some other programming languages, Python doesn't explicitly type variables, so we don't know what type of input `square()` takes unless we read through the code ourselves. This is why it can be helpful to write docstrings for your functions, so that someone who comes along later can read what inputs your function takes, what it does, and what it outputs."
   ]
  },
  {
   "cell_type": "code",
   "execution_count": null,
   "metadata": {},
   "outputs": [],
   "source": [
    "def square(x):\n",
    "    \"\"\"\n",
    "    Returns x squared\n",
    "    \n",
    "    Parameters:\n",
    "        x (numeric): number to be squared\n",
    "    \n",
    "    Returns:\n",
    "        x squared\n",
    "    \n",
    "    \"\"\"\n",
    "    return x*x"
   ]
  },
  {
   "cell_type": "markdown",
   "metadata": {},
   "source": [
    "A helpful tool that Jupyter has is a built-in tooltip which will give you information about a function. You can access it while your cursor is on the name of a function by pressing `shift` + `tab`. This will tell you the name of the function and its parameters, as well as a brief description of what the function does. If you press `tab` a second time, the tooltip will expand with more information including argument and return types, as well as some examples. If you press `tab` a third time, the tooltip will stick to the bottom of the screen. Try it on the `print()` and `square()` functions below:"
   ]
  },
  {
   "cell_type": "code",
   "execution_count": null,
   "metadata": {},
   "outputs": [],
   "source": [
    "print()"
   ]
  },
  {
   "cell_type": "markdown",
   "metadata": {},
   "source": [
    "**Practice**: Try writing a function that takes in two arguments and returns the first argument raised to the power of the 2nd argument.\n",
    "\n",
    "*Hint*: try using a loop"
   ]
  },
  {
   "cell_type": "code",
   "execution_count": null,
   "metadata": {},
   "outputs": [],
   "source": [
    "def power(a, b):\n",
    "    \"\"\"\n",
    "    Fill me in\n",
    "    \"\"\"\n",
    "    ## Fill me in!\n",
    "    "
   ]
  },
  {
   "cell_type": "markdown",
   "metadata": {},
   "source": [
    "<a id=\"arrs-iter\"></a>\n",
    "\n",
    "## 3. Arrays and Iteration"
   ]
  },
  {
   "cell_type": "markdown",
   "metadata": {},
   "source": [
    "<a id='arrs'></a>\n",
    "\n",
    "### 3.1 Arrays and Lists"
   ]
  },
  {
   "cell_type": "markdown",
   "metadata": {},
   "source": [
    "Another major data type in Python is a `list`. Lists allows you to store an ordered collection of items that you can add to."
   ]
  },
  {
   "cell_type": "code",
   "execution_count": null,
   "metadata": {},
   "outputs": [],
   "source": [
    "x = [1, 1, \"hi\", True]\n",
    "x"
   ]
  },
  {
   "cell_type": "markdown",
   "metadata": {},
   "source": [
    "Each item in the list has an `index`, which is basically just its position. You can access an item in the list by selecting its index. Python (as well as most programming languages you'll come across) is 0-indexed, which means indices start at 0. You can index into lists in the following way:\n",
    "\n",
    "    list[index]"
   ]
  },
  {
   "cell_type": "markdown",
   "metadata": {},
   "source": [
    "**Practice**: Try printing the 3rd element in the list `x`."
   ]
  },
  {
   "cell_type": "code",
   "execution_count": null,
   "metadata": {},
   "outputs": [],
   "source": []
  },
  {
   "cell_type": "markdown",
   "metadata": {},
   "source": [
    "You can also replace specific items to a list by assigning to an element by index. Try changing the first value to `2`."
   ]
  },
  {
   "cell_type": "code",
   "execution_count": null,
   "metadata": {},
   "outputs": [],
   "source": []
  },
  {
   "cell_type": "markdown",
   "metadata": {},
   "source": [
    "Python has a built-in function called `len()`. Use the tooltip to figure out what this function does and try printing the last element in the list `x`."
   ]
  },
  {
   "cell_type": "code",
   "execution_count": null,
   "metadata": {},
   "outputs": [],
   "source": [
    "len"
   ]
  },
  {
   "cell_type": "markdown",
   "metadata": {},
   "source": [
    "Some objects in Python have *methods*, which are functions that are defined for that specific type. You can invoke a method on a variable by calling it in the following format:\n",
    "\n",
    "    {variable name}.{method name}\n",
    "    \n",
    "This is equivalent to calling\n",
    "\n",
    "    {object type}.{method name}({variable name})"
   ]
  },
  {
   "cell_type": "markdown",
   "metadata": {},
   "source": [
    "Once again, Jupyter has implemented a helpful tool for searching through all of an object's methods. If you type in `{variable name}.` and then press `tab` after the `.`, a scrollable list of valid methods will pop up."
   ]
  },
  {
   "cell_type": "code",
   "execution_count": null,
   "metadata": {},
   "outputs": [],
   "source": [
    "x."
   ]
  },
  {
   "cell_type": "markdown",
   "metadata": {},
   "source": [
    "You can try playing with the functions to figure out what they do, but here are some of the main ones for reference."
   ]
  },
  {
   "cell_type": "markdown",
   "metadata": {},
   "source": [
    "A. `append(item)`\n",
    "   - adds `item` to the end of the list"
   ]
  },
  {
   "cell_type": "code",
   "execution_count": null,
   "metadata": {},
   "outputs": [],
   "source": [
    "x.append(4)\n",
    "x"
   ]
  },
  {
   "cell_type": "markdown",
   "metadata": {},
   "source": [
    "B. `pop(item)`\n",
    "- removes and returns the last item in the list"
   ]
  },
  {
   "cell_type": "code",
   "execution_count": null,
   "metadata": {},
   "outputs": [],
   "source": [
    "x.pop()"
   ]
  },
  {
   "cell_type": "markdown",
   "metadata": {},
   "source": [
    "C. `insert(pos, item)`\n",
    "- adds an item at position `pos`, pushing all other elements to the right"
   ]
  },
  {
   "cell_type": "code",
   "execution_count": null,
   "metadata": {},
   "outputs": [],
   "source": [
    "x.insert(2, 'happy')\n",
    "x"
   ]
  },
  {
   "cell_type": "markdown",
   "metadata": {},
   "source": [
    "D. `remove(item)`\n",
    "- removes the element with value `item`, shifting all elements on the right to the left"
   ]
  },
  {
   "cell_type": "code",
   "execution_count": null,
   "metadata": {},
   "outputs": [],
   "source": [
    "x.remove('happy')\n",
    "x"
   ]
  },
  {
   "cell_type": "markdown",
   "metadata": {},
   "source": [
    "You can also check if a value is in a list using the following syntax:\n",
    "\n",
    "    {value} in {list}"
   ]
  },
  {
   "cell_type": "code",
   "execution_count": null,
   "metadata": {},
   "outputs": [],
   "source": [
    "'happy' in x"
   ]
  },
  {
   "cell_type": "markdown",
   "metadata": {},
   "source": [
    "A list can contain values of any type, including other lists! When you have a list that has other lists as elements, it's called a *nested list*."
   ]
  },
  {
   "cell_type": "code",
   "execution_count": null,
   "metadata": {},
   "outputs": [],
   "source": [
    "nested = [[1, 2, 3], ['a', 'b', 'c'], [True, False]]"
   ]
  },
  {
   "cell_type": "markdown",
   "metadata": {},
   "source": [
    "**Practice**: Can you think of how you'd be able to get the value `'b'` from the nested list above?"
   ]
  },
  {
   "cell_type": "code",
   "execution_count": null,
   "metadata": {
    "scrolled": true
   },
   "outputs": [],
   "source": [
    "nested"
   ]
  },
  {
   "cell_type": "markdown",
   "metadata": {},
   "source": [
    "<a id='dicts'></a>\n",
    "\n",
    "### 3.2 Dictionaries"
   ]
  },
  {
   "cell_type": "markdown",
   "metadata": {},
   "source": [
    "So right now, we have a way of mapping a number (index) to a value (element) using lists. However, there are cases when we want to map pairs of values by something more complex than just the location in a list. We can do this through *dictionaries*, which map key-value pairs.\n",
    "\n",
    "For example, we might want to map students' names to their grades."
   ]
  },
  {
   "cell_type": "code",
   "execution_count": null,
   "metadata": {},
   "outputs": [],
   "source": [
    "grades = {}\n",
    "grades[\"rosa\"] = \"30\"\n",
    "grades[\"pat\"] = \"92\"\n",
    "grades[\"andrew\"] = \"76\"\n",
    "grades"
   ]
  },
  {
   "cell_type": "markdown",
   "metadata": {},
   "source": [
    "Dictionaries function basically the same way that lists do, just with user-defined keys instead of indices as keys.\n",
    "\n",
    "Just like how lists can contain other lists, dictionaries can also contain other dictionaries! This leads to a tree-like dictionary structure, similar to how a real dictionary works – a chapter for 'A' words, and then within that chapter is each word starting with an 'A'."
   ]
  },
  {
   "cell_type": "code",
   "execution_count": null,
   "metadata": {},
   "outputs": [],
   "source": [
    "dictionary = {\n",
    "    \"a\": {\n",
    "        \"aardvark\": \"looks like an anteater\",\n",
    "        \"amazing\": \"me\"\n",
    "    },\n",
    "    \"b\": {\n",
    "        \"baah\": \"sound sheep make\",\n",
    "        \"bee\": \"stinging insects that are good for the environment\"\n",
    "    }\n",
    "}"
   ]
  },
  {
   "cell_type": "markdown",
   "metadata": {},
   "source": [
    "Again, just like with lists, we can access the definition of `aardvark` by double-indexing:"
   ]
  },
  {
   "cell_type": "code",
   "execution_count": null,
   "metadata": {},
   "outputs": [],
   "source": [
    "dictionary['a']['aardvark']"
   ]
  },
  {
   "cell_type": "markdown",
   "metadata": {},
   "source": [
    "<a id='for'></a>\n",
    "\n",
    "### 3.3 For Loops"
   ]
  },
  {
   "cell_type": "markdown",
   "metadata": {},
   "source": [
    "We're going to take a step back and revisit the idea of control flow. Let's say we want to print each item in the list `x`. One way we can do that is using a counter variable and a while loop.\n",
    "\n",
    "**Practice**: Print out each element in the list `x` using a while loop.\n",
    "*Hint*: You might find the `len()` function helpful here "
   ]
  },
  {
   "cell_type": "code",
   "execution_count": null,
   "metadata": {},
   "outputs": [],
   "source": []
  },
  {
   "cell_type": "markdown",
   "metadata": {},
   "source": [
    "This works perfectly well, but we had to add extra lines of code and declare a variable that we won't be using outside of the loop. Another way we could implement this is by using another type of loop called a *for loop*. A for loop looks like this:\n",
    "\n",
    "    for {index variable} in {iterable}\n",
    "    \n",
    "For now you can think of an iterable as a collection of items that Python can look at individual elements of. Here's how we could achieve the same thing as above, but using a for loop."
   ]
  },
  {
   "cell_type": "code",
   "execution_count": null,
   "metadata": {},
   "outputs": [],
   "source": [
    "for el in x:\n",
    "    print(el)"
   ]
  },
  {
   "cell_type": "markdown",
   "metadata": {},
   "source": [
    "Sometimes, you do want to iterate through the elements of a list by the index. We can still use an index variable, but instead of declaring one and incrementing it manually, we can use the power of for loops as well as a helpful function called `range()`. Range takes a number as input and basically outputs a list of that length with increasing integers starting from 0. (It actually outputs a `range` object, but in practice it is often used as a list in this way).\n",
    "\n",
    "    range(3) = [0, 1, 2]\n",
    "    \n",
    "In conjunction with `len()`, we can iterate through the indices of a list in order."
   ]
  },
  {
   "cell_type": "markdown",
   "metadata": {},
   "source": [
    "**Practice**: Using `range()` and `len()`, print the elements of `x` in reverse order."
   ]
  },
  {
   "cell_type": "code",
   "execution_count": null,
   "metadata": {},
   "outputs": [],
   "source": [
    "## TODO"
   ]
  },
  {
   "cell_type": "markdown",
   "metadata": {},
   "source": [
    "You can also define a starting index for `range()`, which will give you an iterable starting from your starting index and up to (but not including) the second input."
   ]
  },
  {
   "cell_type": "code",
   "execution_count": null,
   "metadata": {},
   "outputs": [],
   "source": [
    "for i in range(2, 5):\n",
    "    print(i)"
   ]
  },
  {
   "cell_type": "markdown",
   "metadata": {},
   "source": [
    "<a id=\"resources\"></a>\n",
    "\n",
    "## References/Resources\n",
    "- [W3Schools Python](https://www.w3schools.com/python)\n",
    "- [Python Official Tutorial](https://docs.python.org/3/tutorial/)"
   ]
  }
 ],
 "metadata": {
  "kernelspec": {
   "display_name": "Python 3",
   "language": "python",
   "name": "python3"
  },
  "language_info": {
   "codemirror_mode": {
    "name": "ipython",
    "version": 3
   },
   "file_extension": ".py",
   "mimetype": "text/x-python",
   "name": "python",
   "nbconvert_exporter": "python",
   "pygments_lexer": "ipython3",
   "version": "3.6.2"
  }
 },
 "nbformat": 4,
 "nbformat_minor": 2
}
