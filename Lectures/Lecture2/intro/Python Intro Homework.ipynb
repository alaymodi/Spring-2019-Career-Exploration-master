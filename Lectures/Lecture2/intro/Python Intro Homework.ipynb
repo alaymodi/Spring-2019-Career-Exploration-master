{
 "cells": [
  {
   "cell_type": "markdown",
   "metadata": {},
   "source": [
    "# Homework"
   ]
  },
  {
   "cell_type": "markdown",
   "metadata": {},
   "source": [
    "## Question 1\n",
    "\n",
    "Fill in the body of the function below to return `True` if either input is a factor of the other."
   ]
  },
  {
   "cell_type": "code",
   "execution_count": null,
   "metadata": {},
   "outputs": [],
   "source": [
    "def either_factor(a, b):\n",
    "    ### FILL ME IN\n",
    "    return False"
   ]
  },
  {
   "cell_type": "code",
   "execution_count": null,
   "metadata": {},
   "outputs": [],
   "source": [
    "assert either_factor(23, 2) == False\n",
    "assert either_factor(16, 64) == True\n",
    "assert either_factor(64, 16) == True"
   ]
  },
  {
   "cell_type": "code",
   "execution_count": null,
   "metadata": {
    "tags": [
     "either_factor"
    ]
   },
   "outputs": [],
   "source": [
    "## Do not delete this cell. It is required for grading.\n",
    "\n",
    "[either_factor(a, b) for a in [17, 5, 110, 42] for b in [0, 1, 17, 7, 55]]"
   ]
  },
  {
   "cell_type": "markdown",
   "metadata": {},
   "source": [
    "## Question 2\n",
    "\n",
    "You dropped your phone in the toilet, so you've lost all of your contacts! You've heard about this mythical technology called *The Yellow Pages*, which has the contacts of everyone in Berkeley. Someone has stored all of the contacts in *The Yellow Pages* in Python in the following way:\n",
    "\n",
    "It is a dictionary with 26 keys, each corresponding to each letter of the alphabet. The value corresponding to each letter is a list of all contacts whose first name starts with that letter. Each of the values in the list is another dictionary which stores the information about a person.\n",
    "\n",
    "Here's an abbreviated example of this:"
   ]
  },
  {
   "cell_type": "code",
   "execution_count": null,
   "metadata": {},
   "outputs": [],
   "source": [
    "yellow_pages_abbrev = {\n",
    "    'A': [\n",
    "        {\n",
    "            'first': 'Ajay',\n",
    "            'last': 'Raj',\n",
    "            'phone_number': '5551234',\n",
    "            'address': 'Not My Address 94709'\n",
    "        },\n",
    "        {\n",
    "            'first': 'Ajay',\n",
    "            'last': 'NotRaj',\n",
    "            'phone_number': '5554321',\n",
    "            'address': 'Fake Address 94720'\n",
    "        }\n",
    "    ]\n",
    "}"
   ]
  },
  {
   "cell_type": "code",
   "execution_count": null,
   "metadata": {},
   "outputs": [],
   "source": [
    "def get_phone_number(yellow_pages, first_name, last_name):\n",
    "    \"\"\"Searches The Yellow Pages (stored in yellow_pages) for the phone number of someone whose first name and last name are given. \n",
    "    \n",
    "    >>> get_phone_number(yellow_pages_abbrev, 'Ajay', 'Raj')\n",
    "    '5551234'\n",
    "    \"\"\"\n",
    "    pass"
   ]
  },
  {
   "cell_type": "code",
   "execution_count": null,
   "metadata": {
    "tags": [
     "yellow_pages"
    ]
   },
   "outputs": [],
   "source": [
    "get_phone_number(yellow_pages_abbrev, \"Ajay\", 'NotRaj')"
   ]
  },
  {
   "cell_type": "markdown",
   "metadata": {},
   "source": [
    "## Question 3\n",
    "\n",
    "For each of the following parts, write your answer in the corresponding code cell.\n",
    "\n",
    "a. *True* or *False*? `range(2, 5)` has length 3    \n",
    "b. What is the value of the following expression: `2 + 3 == 5 and len(yellow_pages_abbrev) == 2 or fib(3) < 10`    \n",
    "c. Which of the following is not a valid method for the `dict` class?\n",
    "- `fromkeys()`\n",
    "- `values()`\n",
    "- `get()`\n",
    "- `set()`\n",
    "- `pop()`    \n",
    "\n",
    "d. How many times will the following while loop execute?\n",
    "\n",
    "        x = 64\n",
    "        y = 'SUSA is great!'\n",
    "        z = 30\n",
    "        while (x > 1):\n",
    "            print(y)\n",
    "            z = z // 10\n"
   ]
  },
  {
   "cell_type": "markdown",
   "metadata": {
    "tags": [
     "3a"
    ]
   },
   "source": [
    "3a) *YOUR ANSWER HERE*"
   ]
  },
  {
   "cell_type": "markdown",
   "metadata": {
    "tags": [
     "3b"
    ]
   },
   "source": [
    "3b) *YOUR ANSWER HERE*"
   ]
  },
  {
   "cell_type": "markdown",
   "metadata": {
    "tags": [
     "3c"
    ]
   },
   "source": [
    "3c) *YOUR ANSWER HERE*"
   ]
  },
  {
   "cell_type": "markdown",
   "metadata": {
    "tags": [
     "3d"
    ]
   },
   "source": [
    "3d) *YOUR ANSWER HERE*"
   ]
  },
  {
   "cell_type": "code",
   "execution_count": null,
   "metadata": {},
   "outputs": [],
   "source": [
    "# be sure to hit save (File > Save and Checkpoint) or Ctrl/Command-S before you run the cell!\n",
    "from submit import create_and_submit\n",
    "\n",
    "create_and_submit(['Python Intro Homework.ipynb'])"
   ]
  }
 ],
 "metadata": {
  "kernelspec": {
   "display_name": "Python 3",
   "language": "python",
   "name": "python3"
  },
  "language_info": {
   "codemirror_mode": {
    "name": "ipython",
    "version": 3
   },
   "file_extension": ".py",
   "mimetype": "text/x-python",
   "name": "python",
   "nbconvert_exporter": "python",
   "pygments_lexer": "ipython3",
   "version": "3.6.2"
  }
 },
 "nbformat": 4,
 "nbformat_minor": 2
}
