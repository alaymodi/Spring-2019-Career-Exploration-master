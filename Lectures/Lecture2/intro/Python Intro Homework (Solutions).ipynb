{
 "cells": [
  {
   "cell_type": "markdown",
   "metadata": {},
   "source": [
    "# Homework"
   ]
  },
  {
   "cell_type": "markdown",
   "metadata": {},
   "source": [
    "## Question 1\n",
    "\n",
    "Fill in the body of the function below to return `True` if either input is a factor of the other."
   ]
  },
  {
   "cell_type": "code",
   "execution_count": 1,
   "metadata": {},
   "outputs": [],
   "source": [
    "def either_factor(a, b):\n",
    "    return a % b == 0 or b % a == 0"
   ]
  },
  {
   "cell_type": "code",
   "execution_count": 2,
   "metadata": {},
   "outputs": [],
   "source": [
    "assert either_factor(23, 2) == False\n",
    "assert either_factor(16, 64) == True\n",
    "assert either_factor(64, 16) == True"
   ]
  },
  {
   "cell_type": "code",
   "execution_count": 5,
   "metadata": {
    "tags": [
     "either_factor"
    ]
   },
   "outputs": [
    {
     "data": {
      "text/plain": [
       "[True,\n",
       " True,\n",
       " False,\n",
       " False,\n",
       " True,\n",
       " False,\n",
       " False,\n",
       " True,\n",
       " True,\n",
       " False,\n",
       " False,\n",
       " True,\n",
       " True,\n",
       " False,\n",
       " True,\n",
       " False]"
      ]
     },
     "execution_count": 5,
     "metadata": {},
     "output_type": "execute_result"
    }
   ],
   "source": [
    "## Do not delete this cell. It is required for grading.\n",
    "\n",
    "[either_factor(a, b) for a in [17, 5, 110, 42] for b in [1, 17, 7, 55]]"
   ]
  },
  {
   "cell_type": "markdown",
   "metadata": {},
   "source": [
    "## Question 2\n",
    "Write a function that takes in a dictionary of `grades` and returns a new dictionary that maps the same student names to their corresponding letter grades, using the following grading scheme:\n",
    "\n",
    "        A+: [97, 100]\n",
    "        A: [93, 97)\n",
    "        A-: [90, 93)\n",
    "        B+: [87, 90)\n",
    "        B: [83, 87)\n",
    "        B-: [80, 83)\n",
    "        ...\n",
    "        D-: [60, 63)\n",
    "        F: [0, 60)"
   ]
  },
  {
   "cell_type": "code",
   "execution_count": 36,
   "metadata": {},
   "outputs": [
    {
     "data": {
      "text/plain": [
       "{'Rosa': 64, 'Ajay': 92, 'Patrick': 87, 'Andrew': 23, 'Isabelle': 100}"
      ]
     },
     "execution_count": 36,
     "metadata": {},
     "output_type": "execute_result"
    }
   ],
   "source": [
    "grades = {\n",
    "    'Rosa': 64,\n",
    "    'Ajay': 92,\n",
    "    'Patrick': 87,\n",
    "    'Andrew': 23,\n",
    "    'Isabelle': 100\n",
    "}\n",
    "grades"
   ]
  },
  {
   "cell_type": "code",
   "execution_count": 37,
   "metadata": {},
   "outputs": [],
   "source": [
    "def num_to_letter_grades(grades):\n",
    "    letter_grades = {}\n",
    "    for student in grades:\n",
    "        tens = grades[student] // 10\n",
    "        ones = grades[student] % 10\n",
    "        \n",
    "        if tens == 10:\n",
    "            letter_grades[student] = 'A+'\n",
    "        elif tens == 9:\n",
    "            letter_grades[student] = 'A'\n",
    "        elif tens == 8:\n",
    "            letter_grades[student] = 'B'\n",
    "        elif tens == 7:\n",
    "            letter_grades[student] = 'C'\n",
    "        elif tens == 6:\n",
    "            letter_grades[student] = 'D'\n",
    "        else:\n",
    "            letter_grades[student] = 'F'\n",
    "        \n",
    "        if 5 < tens < 10:\n",
    "            if ones >= 7:\n",
    "                letter_grades[student] += '+'\n",
    "            elif 0 < ones < 3:\n",
    "                letter_grades[student] += '-'\n",
    "    return letter_grades\n",
    "\n",
    "letter_grades = num_to_letter_grades(grades)"
   ]
  },
  {
   "cell_type": "code",
   "execution_count": 38,
   "metadata": {},
   "outputs": [
    {
     "data": {
      "text/plain": [
       "{'Rosa': 'D', 'Ajay': 'A-', 'Patrick': 'B+', 'Andrew': 'F', 'Isabelle': 'A+'}"
      ]
     },
     "execution_count": 38,
     "metadata": {},
     "output_type": "execute_result"
    }
   ],
   "source": [
    "letter_grades"
   ]
  },
  {
   "cell_type": "code",
   "execution_count": 39,
   "metadata": {},
   "outputs": [],
   "source": [
    "assert letter_grades['Andrew'] == 'F'"
   ]
  },
  {
   "cell_type": "code",
   "execution_count": 40,
   "metadata": {
    "tags": [
     "num_to_letter_grades"
    ]
   },
   "outputs": [
    {
     "data": {
      "text/plain": [
       "{'Rosa': 'D', 'Ajay': 'A-', 'Patrick': 'B+', 'Andrew': 'F', 'Isabelle': 'A+'}"
      ]
     },
     "execution_count": 40,
     "metadata": {},
     "output_type": "execute_result"
    }
   ],
   "source": [
    "## Do not delete this cell. It is required for grading.\n",
    "\n",
    "letter_grades"
   ]
  },
  {
   "cell_type": "markdown",
   "metadata": {},
   "source": [
    "## Question 3\n",
    "\n",
    "The Fibonacci sequence is defined as follows: $$f_n = f_{n-1} + f_{n-2}$$ where $f_i$ is the $i$th element of the sequence. The 0th and 1st elements of the sequence are 0 and 1.\n",
    "\n",
    "Fill in the following function to compute the $n$th element of the sequence."
   ]
  },
  {
   "cell_type": "code",
   "execution_count": 41,
   "metadata": {},
   "outputs": [
    {
     "name": "stdout",
     "output_type": "stream",
     "text": [
      "1\n",
      "2\n",
      "3\n",
      "4\n"
     ]
    }
   ],
   "source": [
    "# Hint: this is how the range() function works with two arguments\n",
    "for i in range(1, 5):\n",
    "    print(i)"
   ]
  },
  {
   "cell_type": "code",
   "execution_count": 42,
   "metadata": {},
   "outputs": [],
   "source": [
    "# If you are having some trouble, take a look back at the Lists and Arrays section!\n",
    "def fib(n):\n",
    "    \"\"\"\n",
    "    >>> [fib(i) for i in range(8)]\n",
    "    [0, 1, 1, 2, 3, 5, 8, 13]\n",
    "    \"\"\"\n",
    "    f = [0, 1]\n",
    "    for i in range(2, n + 1):\n",
    "        f.append(f[i - 1] + f[i - 2])\n",
    "    return f[n]"
   ]
  },
  {
   "cell_type": "code",
   "execution_count": 43,
   "metadata": {},
   "outputs": [],
   "source": [
    "# you can check your answer by running this cell, if it does not error, your code is correct\n",
    "assert [fib(i) for i in range(8)] == [0, 1, 1, 2, 3, 5, 8, 13]"
   ]
  },
  {
   "cell_type": "code",
   "execution_count": 44,
   "metadata": {
    "tags": [
     "fib"
    ]
   },
   "outputs": [
    {
     "data": {
      "text/plain": [
       "28657"
      ]
     },
     "execution_count": 44,
     "metadata": {},
     "output_type": "execute_result"
    }
   ],
   "source": [
    "fib(23)"
   ]
  },
  {
   "cell_type": "markdown",
   "metadata": {},
   "source": [
    "## Question 4\n",
    "\n",
    "You dropped your phone in the toilet, so you've lost all of your contacts! You've heard about this mythical technology called *The Yellow Pages*, which has the contacts of everyone in Berkeley. Someone has stored all of the contacts in *The Yellow Pages* in Python in the following way:\n",
    "\n",
    "It is a dictionary with 26 keys, each corresponding to each letter of the alphabet. The value corresponding to each letter is a list of all contacts whose first name starts with that letter. Each of the values in the list is another dictionary which stores the information about a person.\n",
    "\n",
    "Here's an abbreviated example of this:"
   ]
  },
  {
   "cell_type": "code",
   "execution_count": 45,
   "metadata": {},
   "outputs": [],
   "source": [
    "yellow_pages_abbrev = {\n",
    "    'A': [\n",
    "        {\n",
    "            'first': 'Ajay',\n",
    "            'last': 'Raj',\n",
    "            'phone_number': '5551234',\n",
    "            'address': 'Not My Address 94709'\n",
    "        },\n",
    "        {\n",
    "            'first': 'Ajay',\n",
    "            'last': 'NotRaj',\n",
    "            'phone_number': '5554321',\n",
    "            'address': 'Fake Address 94720'\n",
    "        }\n",
    "    ]\n",
    "}"
   ]
  },
  {
   "cell_type": "code",
   "execution_count": 46,
   "metadata": {},
   "outputs": [],
   "source": [
    "def get_phone_number(yellow_pages, first_name, last_name):\n",
    "    \"\"\"Searches The Yellow Pages (stored in yellow_pages) for the phone number of someone whose first name and last name are given. \n",
    "    \n",
    "    >>> get_phone_number(yellow_pages_abbrev, 'Ajay', 'Raj')\n",
    "    '5551234'\n",
    "    \"\"\"\n",
    "    for letter in yellow_pages:\n",
    "        for person in yellow_pages[letter]:\n",
    "            if person['first'] == first_name and person['last'] == last_name:\n",
    "                return person['phone_number']"
   ]
  },
  {
   "cell_type": "code",
   "execution_count": 47,
   "metadata": {
    "tags": [
     "yellow_pages"
    ]
   },
   "outputs": [
    {
     "data": {
      "text/plain": [
       "'5554321'"
      ]
     },
     "execution_count": 47,
     "metadata": {},
     "output_type": "execute_result"
    }
   ],
   "source": [
    "get_phone_number(yellow_pages_abbrev, \"Ajay\", 'NotRaj')"
   ]
  },
  {
   "cell_type": "markdown",
   "metadata": {},
   "source": [
    "## Question 5\n",
    "\n",
    "For each of the following parts, write your answer in the corresponding code cell.\n",
    "\n",
    "a. *True* or *False*? `range(2, 5)` has length 3    \n",
    "b. What is the value of the following expression: `2 + 3 == 5 and len(yellow_pages_abbrev) == 2 or fib(3) < 10`    \n",
    "c. Which of the following is not a valid method for the `dict` class?\n",
    "- `fromkeys()`\n",
    "- `values()`\n",
    "- `get()`\n",
    "- `set()`\n",
    "- `pop()`    \n",
    "\n",
    "d. How many times will the following while loop execute?\n",
    "\n",
    "        x = 64\n",
    "        y = 'SUSA is great!'\n",
    "        z = 30\n",
    "        while (x > 1):\n",
    "            print(y)\n",
    "            z = z // 10\n"
   ]
  },
  {
   "cell_type": "markdown",
   "metadata": {
    "tags": [
     "5a"
    ]
   },
   "source": [
    "5a)\n",
    "False"
   ]
  },
  {
   "cell_type": "markdown",
   "metadata": {
    "tags": [
     "5b"
    ]
   },
   "source": [
    "5b) True"
   ]
  },
  {
   "cell_type": "markdown",
   "metadata": {
    "tags": [
     "5c"
    ]
   },
   "source": [
    "5c) set()"
   ]
  },
  {
   "cell_type": "markdown",
   "metadata": {
    "tags": [
     "5d"
    ]
   },
   "source": [
    "5d) infinite"
   ]
  },
  {
   "cell_type": "code",
   "execution_count": null,
   "metadata": {},
   "outputs": [],
   "source": [
    "# be sure to hit save (File > Save and Checkpoint) or Ctrl/Command-S before you run the cell!\n",
    "from submit import create_and_submit\n",
    "\n",
    "create_and_submit(['Python Intro Homework.ipynb'])"
   ]
  }
 ],
 "metadata": {
  "kernelspec": {
   "display_name": "Python 3",
   "language": "python",
   "name": "python3"
  },
  "language_info": {
   "codemirror_mode": {
    "name": "ipython",
    "version": 3
   },
   "file_extension": ".py",
   "mimetype": "text/x-python",
   "name": "python",
   "nbconvert_exporter": "python",
   "pygments_lexer": "ipython3",
   "version": "3.6.2"
  }
 },
 "nbformat": 4,
 "nbformat_minor": 2
}
